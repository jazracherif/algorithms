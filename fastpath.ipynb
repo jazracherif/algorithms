{
 "cells": [
  {
   "cell_type": "markdown",
   "metadata": {},
   "source": [
    "# Fastest path in an array\n",
    "\n",
    "Consider the array [1, 3, 5, 8, 3, 2, 6, 7, 6, 8, 9]\n",
    "where each index correspond to the allowed number of steps ahead.\n",
    "\n",
    "Q: How fast can we get to the last edge?\n"
   ]
  },
  {
   "cell_type": "code",
   "execution_count": 29,
   "metadata": {},
   "outputs": [
    {
     "name": "stdout",
     "output_type": "stream",
     "text": [
      "path [1, 3, 5, 6, 9]\n"
     ]
    }
   ],
   "source": [
    "import collections\n",
    "\n",
    "arr = [1, 3, 5, 8, 3, 2, 6, 7, 6, 8, 9]\n",
    "#arr = [1, 3, 5, 3, 2, 6, 7, 6, 8, 9]\n",
    "\n",
    "\n",
    "n = len(arr) \n",
    "route = [ [n, None] for i in range(n)]\n",
    "\n",
    "route[0] = [0, 0] \n",
    "for i in range(0, n-1):\n",
    "    for j in range(i+1, i+1+arr[i]):\n",
    "        #print (j)\n",
    "        if j >= n:\n",
    "            continue\n",
    "            \n",
    "        if route[j][0] > route[i][0] + 1:\n",
    "            # Faster route\n",
    "            route[j][0] = route[i][0] + 1\n",
    "            route[j][1] = i\n",
    "            \n",
    "# Init Path            \n",
    "path = [arr[n-1]]\n",
    "\n",
    "# STart from last item\n",
    "s = route[-1]\n",
    "parent = s[1]\n",
    "while (parent!=arr[0]):\n",
    "    parent = s[1]\n",
    "    \n",
    "    path.insert(0, arr[parent])\n",
    "    s = route[parent]\n",
    "    \n",
    "path.insert(0, arr[0])\n",
    "\n",
    "print (\"path\", path)"
   ]
  },
  {
   "cell_type": "code",
   "execution_count": null,
   "metadata": {
    "collapsed": true
   },
   "outputs": [],
   "source": []
  }
 ],
 "metadata": {
  "kernelspec": {
   "display_name": "Python 3",
   "language": "python",
   "name": "python3"
  },
  "language_info": {
   "codemirror_mode": {
    "name": "ipython",
    "version": 3
   },
   "file_extension": ".py",
   "mimetype": "text/x-python",
   "name": "python",
   "nbconvert_exporter": "python",
   "pygments_lexer": "ipython3",
   "version": "3.5.4"
  }
 },
 "nbformat": 4,
 "nbformat_minor": 2
}
