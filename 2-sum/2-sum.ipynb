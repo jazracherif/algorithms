{
 "cells": [
  {
   "cell_type": "markdown",
   "metadata": {},
   "source": [
    "# 2-SUM Algorithm\n",
    "\n",
    "The goal of this problem is to implement a variant of the 2-SUM algorithm covered in this week's lectures.\n",
    "\n",
    "The file algo1-programming_prob-2sum.txt contains 1 million integers, both positive and negative (there might be some repetitions!).This is your array of integers, with the ith row of the file specifying the ith entry of the array.\n",
    "\n",
    "Your task is to compute the number of target values t in the interval [-10000,10000] (inclusive) such that there are distinct numbers x,y in the input file that satisfy x+y=t. (NOTE: ensuring distinctness requires a one-line addition to the algorithm from lecture.)\n",
    "\n",
    "Write your numeric answer (an integer between 0 and 20001) in the space provided.\n",
    "\n",
    "OPTIONAL CHALLENGE: If this problem is too easy for you, try implementing your own hash table for it. For example, you could compare performance under the chaining and open addressing approaches to resolving collisions.\n"
   ]
  },
  {
   "cell_type": "code",
   "execution_count": 140,
   "metadata": {},
   "outputs": [
    {
     "name": "stdout",
     "output_type": "stream",
     "text": [
      "4\n"
     ]
    }
   ],
   "source": [
    "# Binary search function for finding the index at which a value should be at.\n",
    "# return the index above if the value is found\n",
    "# If the value is not found, return the index of the next higher value\n",
    "def find_index_low(arr, start, end, t):\n",
    "    # Where to insert a value\n",
    "    if end == start:\n",
    "        if arr[start] > t:\n",
    "            return start\n",
    "        else:\n",
    "            return start+1\n",
    "        \n",
    "    mid = int((end+start)/2)\n",
    "    center = arr[mid]\n",
    "    \n",
    "    if t > center:\n",
    "        return find_index_low(arr, mid+1, end, t)\n",
    "    else:\n",
    "        return find_index_low(arr, start, mid, t)\n",
    "\n",
    "# Test\n",
    "arr = [-10, 1 ,3, 4, 6, 9, 11, 14]\n",
    "print (find_index_low(arr, 0, len(arr)-1, 5))"
   ]
  },
  {
   "cell_type": "code",
   "execution_count": 139,
   "metadata": {},
   "outputs": [
    {
     "name": "stdout",
     "output_type": "stream",
     "text": [
      "427\n"
     ]
    }
   ],
   "source": [
    "file = \"algo1-programming_prob-2sum.txt\"\n",
    "\n",
    "_arr = [int(i) for i in open(file, \"r\").readlines()]\n",
    "arr = sorted(_arr)\n",
    "\n",
    "c = 10000\n",
    "n=len(arr)-1\n",
    "mySum = {}\n",
    "count = 0\n",
    "for x in arr:\n",
    "    mySet = set()\n",
    "    \n",
    "    #print (\"for\",x, \"find a num between\",-c-x, c-x)\n",
    "    i_low = find_index_low(arr, 0, n, -c - x)    \n",
    "    i_up = find_index_low(arr, 0, n, c - x)\n",
    "    \n",
    "    mylist = arr[i_low:i_up]\n",
    "        \n",
    "    if x in mylist:\n",
    "        mylist.remove(x)\n",
    "    \n",
    "    for m in mylist:\n",
    "        mySum[x+m] = True\n",
    "        \n",
    "print (len(mySum.items()))"
   ]
  }
 ],
 "metadata": {
  "kernelspec": {
   "display_name": "Python 3",
   "language": "python",
   "name": "python3"
  },
  "language_info": {
   "codemirror_mode": {
    "name": "ipython",
    "version": 3
   },
   "file_extension": ".py",
   "mimetype": "text/x-python",
   "name": "python",
   "nbconvert_exporter": "python",
   "pygments_lexer": "ipython3",
   "version": "3.5.4"
  }
 },
 "nbformat": 4,
 "nbformat_minor": 2
}
