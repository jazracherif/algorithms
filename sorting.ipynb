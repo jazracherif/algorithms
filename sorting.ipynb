{
 "cells": [
  {
   "cell_type": "markdown",
   "metadata": {},
   "source": [
    "## HeapSort v.s InsertSort"
   ]
  },
  {
   "cell_type": "markdown",
   "metadata": {},
   "source": [
    "## HeapSort"
   ]
  },
  {
   "cell_type": "code",
   "execution_count": 4,
   "metadata": {
    "collapsed": true
   },
   "outputs": [],
   "source": [
    "# heap structure. a binary tree where the key values of children is larger than the key value of the parent        \n",
    "class myHeapArray(object):\n",
    "    \n",
    "    def __init__(self, ):        \n",
    "        self.heap = []\n",
    "                \n",
    "    def bubbleDown(self):\n",
    "        \n",
    "        n = len(self.heap)-1        \n",
    "        p = 0\n",
    "        \n",
    "        while (2*p <= n):\n",
    "            c1 = 2*p\n",
    "               \n",
    "            if 2*p + 1 <= n: \n",
    "                c2 = 2*p + 1\n",
    "                # Second child exists\n",
    "                if self.heap[c1] < self.heap[c2]:                \n",
    "                    c_val, c = (self.heap[c1], c1)\n",
    "                else:\n",
    "                    c_val, c = (self.heap[c2], c2)\n",
    "            else:\n",
    "                c_val, c = (self.heap[c1], c1)\n",
    "\n",
    "\n",
    "            # Swap parent with the child with the smallest key value\n",
    "            if self.heap[p] >  c_val:\n",
    "                tmp = self.heap[p]\n",
    "                self.heap[p] = c_val\n",
    "                self.heap[c] = tmp\n",
    "                p = c\n",
    "            else:\n",
    "                break         \n",
    "        \n",
    "        \n",
    "    def extractMin(self):\n",
    "        if not self.heap:\n",
    "            return None\n",
    "        \n",
    "        val = self.heap[0]\n",
    "        \n",
    "        # copy last value to root, then remove and discard.\n",
    "        last = len(self.heap) - 1\n",
    "        self.heap[0] = self.heap[last]        \n",
    "        self.heap.pop()\n",
    "        \n",
    "        self.bubbleDown()\n",
    "        \n",
    "        return val\n",
    "    \n",
    "    def bubbleUp(self):\n",
    "        # for parent at node i, children is at node 2*i and 2*i + 1\n",
    "        # for child i, parent is at i/2 if i is even or floor(i/2) if i is odd\n",
    "        \n",
    "        # Bubble Up starting the newly added key at the end of the heap\n",
    "        \n",
    "        c = len(self.heap) - 1\n",
    "        while c!= 0:\n",
    "            p = int(c / 2)\n",
    "            if self.heap[p] > self.heap[c]:\n",
    "                tmp = self.heap[p]\n",
    "                self.heap[p] = self.heap[c]\n",
    "                self.heap[c] = tmp\n",
    "                c = p\n",
    "            else:\n",
    "                break                        \n",
    "        \n",
    "    def insert(self,elem):\n",
    "        self.heap.append(elem)\n",
    "        \n",
    "        self.bubbleUp()\n",
    "        \n",
    "    def insertList(self, elemList):\n",
    "        for elem in elemList:\n",
    "            self.heap.append(elem)\n",
    "            self.bubbleUp()\n",
    "\n",
    "    def get_ordered_list(self):\n",
    "        ordered = []        \n",
    "\n",
    "        while True:\n",
    "            n = self.extractMin()\n",
    "            if n:\n",
    "                ordered.append(n)\n",
    "            else:\n",
    "                break\n",
    "\n",
    "        return ordered            "
   ]
  },
  {
   "cell_type": "markdown",
   "metadata": {},
   "source": [
    "## InsertSort"
   ]
  },
  {
   "cell_type": "code",
   "execution_count": 13,
   "metadata": {
    "collapsed": true
   },
   "outputs": [],
   "source": [
    "# compare to InsertSort\n",
    "\n",
    "def InsertSort(arr):\n",
    "    arr = arr.copy()\n",
    "    \n",
    "    n = len(arr)\n",
    "    i=1\n",
    "    while i < n:\n",
    "        val = arr[i]\n",
    "        for j in range(0, i):\n",
    "            if arr[j] >= val:\n",
    "                # insert at location j, and shift all by one                \n",
    "                arr[j+1:i+1] = arr[j:i]                \n",
    "                arr[j]=val\n",
    "                break\n",
    "           \n",
    "        i += 1\n",
    "    return arr\n"
   ]
  },
  {
   "cell_type": "code",
   "execution_count": 98,
   "metadata": {},
   "outputs": [
    {
     "name": "stdout",
     "output_type": "stream",
     "text": [
      "heapSort(ms) 1.336 ms\n",
      "InsertSort(ms) 1.453 ms\n",
      "heapSort(ms) 1.283 ms\n",
      "InsertSort(ms) 1.228 ms\n",
      "heapSort(ms) 1.257 ms\n",
      "InsertSort(ms) 1.261 ms\n",
      "heapSort(ms) 2.043 ms\n",
      "InsertSort(ms) 1.14 ms\n",
      "heapSort(ms) 0.718 ms\n",
      "InsertSort(ms) 0.523 ms\n",
      "heapSort(ms) 0.705 ms\n",
      "InsertSort(ms) 0.764 ms\n",
      "heapSort(ms) 0.705 ms\n",
      "InsertSort(ms) 0.799 ms\n",
      "heapSort(ms) 1.024 ms\n",
      "InsertSort(ms) 0.885 ms\n",
      "heapSort(ms) 0.682 ms\n",
      "InsertSort(ms) 0.845 ms\n",
      "heapSort(ms) 0.685 ms\n",
      "InsertSort(ms) 0.845 ms\n"
     ]
    }
   ],
   "source": [
    "## Comparison\n",
    "\n",
    "import numpy as np\n",
    "\n",
    "N = 100\n",
    "arr = np.random.randint(0, 10000, size=N)\n",
    "\n",
    "s = datetime.now()\n",
    "h = myHeapArray()\n",
    "h.insertList(arr)\n",
    "sortedHS = h.get_ordered_list()      \n",
    "e = datetime.now()\n",
    "print (\"heapSort(ms)\", (e-s).microseconds / 1000, \"ms\")\n",
    "        \n",
    "s = datetime.now()\n",
    "sortedIS = InsertSort(arr)\n",
    "e = datetime.now()\n",
    "print (\"InsertSort(ms)\", (e-s).microseconds / 1000, \"ms\")\n",
    "\n",
    "\n",
    "arrsort = arr.copy()\n",
    "arrsort.sort()\n",
    "\n",
    "assert sum(sortedHS == arrsort) == N, \"Don't match! HS {} arr {}, orig {}\".format(sortedHS, arrsort, arr) \n",
    "assert sum(sortedIS == arrsort) == N, \"Don't match! IS {} arr {}, orig {}\".format(sortedHS, arrsort, arr) \n",
    "\n",
    "\n"
   ]
  },
  {
   "cell_type": "code",
   "execution_count": null,
   "metadata": {
    "collapsed": true
   },
   "outputs": [],
   "source": []
  }
 ],
 "metadata": {
  "kernelspec": {
   "display_name": "Python 3",
   "language": "python",
   "name": "python3"
  },
  "language_info": {
   "codemirror_mode": {
    "name": "ipython",
    "version": 3
   },
   "file_extension": ".py",
   "mimetype": "text/x-python",
   "name": "python",
   "nbconvert_exporter": "python",
   "pygments_lexer": "ipython3",
   "version": "3.5.4"
  }
 },
 "nbformat": 4,
 "nbformat_minor": 2
}
