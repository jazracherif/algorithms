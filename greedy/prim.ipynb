{
 "cells": [
  {
   "cell_type": "markdown",
   "metadata": {},
   "source": [
    "## Prim's minimum spanning tree algorithm.\n",
    "\n",
    "This file prim.txt describes an undirected graph with integer edge costs. It has the format\n",
    "\n",
    "[number_of_nodes] [number_of_edges]\n",
    "\n",
    "[one_node_of_edge_1] [other_node_of_edge_1] [edge_1_cost]\n",
    "\n",
    "[one_node_of_edge_2] [other_node_of_edge_2] [edge_2_cost]\n",
    "\n",
    "...\n",
    "\n",
    "For example, the third line of the file is \"2 3 -8874\", indicating that there is an edge connecting vertex #2 and vertex #3 that has cost -8874.\n",
    "\n",
    "You should NOT assume that edge costs are positive, nor should you assume that they are distinct.\n",
    "\n",
    "Your task is to run Prim's minimum spanning tree algorithm on this graph. You should report the overall cost of a minimum spanning tree --- an integer, which may or may not be negative\n",
    "\n",
    "IMPLEMENTATION NOTES: This graph is small enough that the straightforward O(mn) time implementation of Prim's algorithm should work fine. OPTIONAL: For those of you seeking an additional challenge, try implementing a heap-based version. The simpler approach, which should already give you a healthy speed-up, is to maintain relevant edges in a heap (with keys = edge costs). The superior approach stores the unprocessed vertices in the heap, as described in lecture. Note this requires a heap that supports deletions, and you'll probably need to maintain some kind of mapping between vertices and their positions in the heap"
   ]
  },
  {
   "cell_type": "code",
   "execution_count": 35,
   "metadata": {
    "collapsed": true
   },
   "outputs": [],
   "source": [
    "class prim(object):\n",
    "    MAX_WEIGHT = 1000000\n",
    "    \n",
    "    def __init__(self, graph, vertices, edges):\n",
    "        self.graph = graph\n",
    "        self.vertices = vertices\n",
    "        self.edges = edges \n",
    "        \n",
    "        self.X = [] # Vertices processed so far\n",
    "        self.unprocessed_vertices = vertices.copy() # V-X\n",
    "\n",
    "    def compute_next_min_edge(self):\n",
    "        minW = prim.MAX_WEIGHT\n",
    "        minV1 = None  #destination edge\n",
    "        minV2 = None  # Source Edge\n",
    "#         print (\"X\", self.X, \"V-X\", self.unprocessed_vertices )\n",
    "#         print (self.edges)\n",
    "        for edge in self.edges:\n",
    "            node1 = edge[0]\n",
    "            node2 = edge[1]\n",
    "                        \n",
    "            if node1 in self.X and node2 in self.unprocessed_vertices:\n",
    "                weight = edge[2]\n",
    "                if weight < minW:\n",
    "                    minW = weight                    \n",
    "                    minV1 = node1\n",
    "                    minV2 = node2                    \n",
    "            elif node2 in self.X and node1 in self.unprocessed_vertices:\n",
    "                weight = edge[2]\n",
    "                if weight < minW:\n",
    "                    minW = weight                    \n",
    "                    minV1 = node2\n",
    "                    minV2 = node1\n",
    "                    \n",
    "        #print (\"final choice\", minS, minE, self.A[minS], minD)\n",
    "        if minV1:\n",
    "            # minV1 always belongs to X and minV2 to V-x\n",
    "            return minV1, minV2, minW\n",
    "        else:\n",
    "            return None,None,None\n",
    "        \n",
    "    \n",
    "    def reinit(self, s):\n",
    "        self.X = [s]        \n",
    "        self.unprocessed_vertices = vertices.copy()\n",
    "        self.unprocessed_vertices.remove(s)\n",
    "\n",
    "    def run(self, s):\n",
    "        self.reinit(s)\n",
    "        \n",
    "        n = len(self.vertices)\n",
    "        v = s\n",
    "          \n",
    "        MST = []\n",
    "        while (n > 0):\n",
    "            \n",
    "            minV1, minV2, minW = self.compute_next_min_edge()\n",
    "            \n",
    "            if minV2 is None:\n",
    "                # No more edges between X and V-X to process. Done.                    \n",
    "                break\n",
    "                \n",
    "            #print (\"pick\", w)\n",
    "            #print (\"processed\", self.X, self.A)\n",
    "\n",
    "            self.unprocessed_vertices.remove(minV2)\n",
    "            self.X.append(minV2)\n",
    "            n -= 1\n",
    "#             print (\"Add edge\", [minV1, minV2])\n",
    "            MST.append([minV1, minV2, minW])\n",
    "                \n",
    "        return MST   "
   ]
  },
  {
   "cell_type": "code",
   "execution_count": 36,
   "metadata": {},
   "outputs": [
    {
     "name": "stdout",
     "output_type": "stream",
     "text": [
      "[['1', '2', 1], ['2', '3', 2], ['3', '4', 3]]\n"
     ]
    }
   ],
   "source": [
    "# Test Prim\n",
    "\n",
    "#Example\n",
    "def get_edges(graph):\n",
    "    edges = []\n",
    "    for s, adj in graph.items():\n",
    "        for v in adj:\n",
    "            edges.append([s, v[0], v[1]])\n",
    "    return edges\n",
    "        \n",
    "graph ={\n",
    "    \"1\": [[\"2\",1], [\"3\", 4]],\n",
    "    \"2\": [[\"3\", 2], [\"4\",6]],\n",
    "    \"3\": [[\"4\",3]],\n",
    "    \"4\": []\n",
    "}\n",
    "\n",
    "vertices = [\"1\", \"3\", \"2\", \"4\"]\n",
    "edges = get_edges(graph)\n",
    "\n",
    "d = prim(graph, vertices, edges)\n",
    "\n",
    "print (d.run(\"1\"))"
   ]
  },
  {
   "cell_type": "code",
   "execution_count": 37,
   "metadata": {},
   "outputs": [
    {
     "name": "stdout",
     "output_type": "stream",
     "text": [
      "Total Weight 3\n",
      "Test Passed!\n"
     ]
    }
   ],
   "source": [
    "# Test  File\n",
    "import collections\n",
    "FILE = \"prim_test.txt\"\n",
    "\n",
    "fp = open(FILE, 'r')\n",
    "\n",
    "data = fp.readlines()\n",
    "\n",
    "param = data[0].strip().split(' ')\n",
    "n_nodes, n_edges = int(param[0]), int(param[1])\n",
    "\n",
    "data = data[1:]\n",
    "\n",
    "graph = collections.defaultdict(list)\n",
    "vertices = set()\n",
    "edges = []\n",
    "\n",
    "for line in data:\n",
    "    v = line.strip().split(\" \")\n",
    "    \n",
    "    vertices.add(v[0])\n",
    "    vertices.add(v[1])\n",
    "\n",
    "    graph[v[0]].append(v[1])\n",
    "    graph[v[1]].append(v[0])\n",
    "\n",
    "    edges.append([v[0], v[1], int(v[2])])\n",
    "    \n",
    "# print (\"Vertex 1 adj:\", graph[\"1\"])\n",
    "# print (\"First 5 Edges:\", edges[:5])\n",
    "\n",
    "d = prim(graph, vertices, edges)\n",
    "MST = d.run(\"1\")\n",
    "\n",
    "weight = 0\n",
    "for e in MST:\n",
    "    weight += e[2]\n",
    "    \n",
    "print (\"Total Weight\", weight)\n",
    "\n",
    "assert weight == 3\n",
    "print (\"Test Passed!\")"
   ]
  },
  {
   "cell_type": "code",
   "execution_count": 38,
   "metadata": {},
   "outputs": [
    {
     "name": "stdout",
     "output_type": "stream",
     "text": [
      "Total Weight -3612829\n"
     ]
    },
    {
     "ename": "AssertionError",
     "evalue": "",
     "output_type": "error",
     "traceback": [
      "\u001b[0;31m---------------------------------------------------------------------------\u001b[0m",
      "\u001b[0;31mAssertionError\u001b[0m                            Traceback (most recent call last)",
      "\u001b[0;32m<ipython-input-38-778a3ffa2680>\u001b[0m in \u001b[0;36m<module>\u001b[0;34m()\u001b[0m\n\u001b[1;32m     39\u001b[0m \u001b[0mprint\u001b[0m \u001b[0;34m(\u001b[0m\u001b[0;34m\"Total Weight\"\u001b[0m\u001b[0;34m,\u001b[0m \u001b[0mweight\u001b[0m\u001b[0;34m)\u001b[0m\u001b[0;34m\u001b[0m\u001b[0m\n\u001b[1;32m     40\u001b[0m \u001b[0;34m\u001b[0m\u001b[0m\n\u001b[0;32m---> 41\u001b[0;31m \u001b[0;32massert\u001b[0m \u001b[0mweight\u001b[0m \u001b[0;34m==\u001b[0m \u001b[0;36m3\u001b[0m\u001b[0;34m\u001b[0m\u001b[0m\n\u001b[0m\u001b[1;32m     42\u001b[0m \u001b[0mprint\u001b[0m \u001b[0;34m(\u001b[0m\u001b[0;34m\"Test Passed!\"\u001b[0m\u001b[0;34m)\u001b[0m\u001b[0;34m\u001b[0m\u001b[0m\n",
      "\u001b[0;31mAssertionError\u001b[0m: "
     ]
    }
   ],
   "source": [
    "# Test  File\n",
    "import collections\n",
    "FILE = \"prim.txt\"\n",
    "\n",
    "fp = open(FILE, 'r')\n",
    "\n",
    "data = fp.readlines()\n",
    "\n",
    "param = data[0].strip().split(' ')\n",
    "n_nodes, n_edges = int(param[0]), int(param[1])\n",
    "\n",
    "data = data[1:]\n",
    "\n",
    "graph = collections.defaultdict(list)\n",
    "vertices = set()\n",
    "edges = []\n",
    "\n",
    "for line in data:\n",
    "    v = line.strip().split(\" \")\n",
    "    \n",
    "    vertices.add(v[0])\n",
    "    vertices.add(v[1])\n",
    "\n",
    "    graph[v[0]].append(v[1])\n",
    "    graph[v[1]].append(v[0])\n",
    "\n",
    "    edges.append([v[0], v[1], int(v[2])])\n",
    "    \n",
    "# print (\"Vertex 1 adj:\", graph[\"1\"])\n",
    "# print (\"First 5 Edges:\", edges[:5])\n",
    "\n",
    "d = prim(graph, vertices, edges)\n",
    "MST = d.run(\"1\")\n",
    "\n",
    "weight = 0\n",
    "for e in MST:\n",
    "    weight += e[2]\n",
    "    \n",
    "print (\"Total Weight\", weight)\n"
   ]
  },
  {
   "cell_type": "code",
   "execution_count": 33,
   "metadata": {},
   "outputs": [
    {
     "name": "stdout",
     "output_type": "stream",
     "text": [
      "[['1', '4', 3], ['4', '2', -1], ['2', '3', 2], ['3', '5', -2], ['5', '6', 1]]\n"
     ]
    }
   ],
   "source": []
  },
  {
   "cell_type": "code",
   "execution_count": null,
   "metadata": {
    "collapsed": true
   },
   "outputs": [],
   "source": []
  }
 ],
 "metadata": {
  "kernelspec": {
   "display_name": "Python 3",
   "language": "python",
   "name": "python3"
  },
  "language_info": {
   "codemirror_mode": {
    "name": "ipython",
    "version": 3
   },
   "file_extension": ".py",
   "mimetype": "text/x-python",
   "name": "python",
   "nbconvert_exporter": "python",
   "pygments_lexer": "ipython3",
   "version": "3.5.4"
  }
 },
 "nbformat": 4,
 "nbformat_minor": 2
}
