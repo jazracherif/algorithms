{
 "cells": [
  {
   "cell_type": "markdown",
   "metadata": {},
   "source": [
    "## Greedy Algorithms\n",
    "\n",
    "\n",
    "In this programming problem and the next you'll code up the greedy algorithms from lecture for minimizing the weighted sum of completion times..\n",
    "\n",
    "The file jobs.text describes a set of jobs with positive and integral weights and lengths. It has the format\n",
    "\n",
    "[number_of_jobs]\n",
    "\n",
    "[job_1_weight] [job_1_length]\n",
    "\n",
    "[job_2_weight] [job_2_length]\n",
    "\n",
    "...\n",
    "\n",
    "For example, the third line of the file is \"74 59\", indicating that the second job has weight 74 and length 59.\n",
    "\n",
    "You should NOT assume that edge weights or lengths are distinct.\n",
    "\n",
    "Your task in this problem is to run the greedy algorithm that schedules jobs in decreasing order of the difference (weight - length). Recall from lecture that this algorithm is not always optimal. IMPORTANT: if two jobs have equal difference (weight - length), you should schedule the job with higher weight first. Beware: if you break ties in a different way, you are likely to get the wrong answer. You should report the sum of weighted completion times of the resulting schedule --- a positive integer --- in the box below.\n",
    "\n",
    "ADVICE: If you get the wrong answer, try out some small test cases to debug your algorithm (and post your test cases to the discussion forum).\n"
   ]
  },
  {
   "cell_type": "code",
   "execution_count": 41,
   "metadata": {},
   "outputs": [],
   "source": [
    "# Initialize Modules\n",
    "import collections \n",
    "import heapq"
   ]
  },
  {
   "cell_type": "markdown",
   "metadata": {},
   "source": [
    "## Scheduling by Difference Score"
   ]
  },
  {
   "cell_type": "code",
   "execution_count": 38,
   "metadata": {},
   "outputs": [],
   "source": [
    "def schedule_by_difference(data):\n",
    "    scores = collections.defaultdict(list)\n",
    "\n",
    "    for d in data:\n",
    "        d = d.split(\" \")\n",
    "        w = int(d[0])\n",
    "        l = int(d[1])\n",
    "        score = w - l\n",
    "        heapq.heappush(scores[score], (-w, l))\n",
    "\n",
    "    # out = sorted(data, key = lambda x: int(x.split(\" \")[0]) - int(x.split(\" \")[1]), reverse=True)\n",
    "\n",
    "    all_keys = sorted(scores.keys(), reverse=True)\n",
    "    #print (all_keys)\n",
    "\n",
    "    C = 0 # Sum of Weighted Completion Time\n",
    "    L = 0 # Completion Time \n",
    "    for k in all_keys:\n",
    "        while scores[k]:\n",
    "            job_k = (heapq.heappop(scores[k]))\n",
    "            c_k = L = L + job_k[1] \n",
    "            C += c_k * (-job_k[0])\n",
    "\n",
    "    return L, C"
   ]
  },
  {
   "cell_type": "markdown",
   "metadata": {},
   "source": [
    "For this problem, use the same data set as in the previous problem.\n",
    "\n",
    "Your task now is to run the greedy algorithm that schedules jobs (optimally) in decreasing order of the ratio (weight/length). In this algorithm, it does not matter how you break ties. You should report the sum of weighted completion times of the resulting schedule --- a positive integer --- in the box below."
   ]
  },
  {
   "cell_type": "markdown",
   "metadata": {},
   "source": [
    "## Scheduling by Ratio Score"
   ]
  },
  {
   "cell_type": "code",
   "execution_count": 39,
   "metadata": {},
   "outputs": [],
   "source": [
    "def schedule_by_ratio(data):\n",
    "    scores = collections.defaultdict(list)\n",
    "\n",
    "    for d in data:\n",
    "        d = d.split(\" \")\n",
    "        w = int(d[0])\n",
    "        l = int(d[1])\n",
    "        score = w / l\n",
    "        heapq.heappush(scores[score], (-w, l))\n",
    "\n",
    "    # out = sorted(data, key = lambda x: int(x.split(\" \")[0]) - int(x.split(\" \")[1]), reverse=True)\n",
    "\n",
    "    all_keys = sorted(scores.keys(), reverse=True)\n",
    "    #print (all_keys)\n",
    "\n",
    "    C = 0 # Sum of Weighted Completion Time\n",
    "    L = 0 # Completion Time \n",
    "    for k in all_keys:\n",
    "        #print (k, scores[k])\n",
    "\n",
    "        while scores[k]:\n",
    "            job_k = (heapq.heappop(scores[k]))\n",
    "            c_k = L = L + job_k[1] \n",
    "            C += c_k * (-job_k[0])\n",
    "\n",
    "    return L, C\n",
    "    #print (\"Time to complete {} - Weighted Completion {}\".format(L, C))\n",
    "    \n"
   ]
  },
  {
   "cell_type": "markdown",
   "metadata": {},
   "source": [
    "## Unit Test"
   ]
  },
  {
   "cell_type": "code",
   "execution_count": 58,
   "metadata": {},
   "outputs": [
    {
     "name": "stdout",
     "output_type": "stream",
     "text": [
      "All Test Passed!\n"
     ]
    }
   ],
   "source": [
    "FILE = \"jobs_test.txt\"\n",
    "\n",
    "fp = open(FILE, 'r')\n",
    "data = fp.readlines()\n",
    "\n",
    "n= data[0]\n",
    "data= data[1:]\n",
    "\n",
    "L1,C1 = schedule_by_difference(data)\n",
    "# print (\"Difference - Time to complete {} - Weighted Completion {}\".format(L, C))\n",
    "\n",
    "L2,C2 = schedule_by_ratio(data)\n",
    "# print (\"Ratio - Time to complete {} - Weighted Completion {}\".format(L, C))\n",
    "\n",
    "assert C1 == 68615, \"Differece: error C is {}, expected {}\".format(C1, 68615)\n",
    "assert C2 == 67247, \"Ratio: error C is {}, expected {}\".format(C2, 67247)\n",
    "print (\"All Test Passed!\")"
   ]
  },
  {
   "cell_type": "markdown",
   "metadata": {},
   "source": [
    "## Test on jobs.txt"
   ]
  },
  {
   "cell_type": "code",
   "execution_count": 59,
   "metadata": {},
   "outputs": [
    {
     "name": "stdout",
     "output_type": "stream",
     "text": [
      "Difference - Time to complete 510289 - Weighted Completion 69119377652\n",
      "Ratio - Time to complete 510289 - Weighted Completion 67311454237\n"
     ]
    }
   ],
   "source": [
    "\n",
    "FILE = \"jobs.txt\"\n",
    "fp = open(FILE, 'r')\n",
    "data = fp.readlines()\n",
    "\n",
    "n= data[0]\n",
    "data= data[1:]\n",
    "\n",
    "L,C = schedule_by_difference(data)\n",
    "print (\"Difference - Time to complete {} - Weighted Completion {}\".format(L, C))\n",
    "\n",
    "L,C = schedule_by_ratio(data)\n",
    "print (\"Ratio - Time to complete {} - Weighted Completion {}\".format(L, C))\n",
    "\n"
   ]
  }
 ],
 "metadata": {
  "kernelspec": {
   "display_name": "Python 3",
   "language": "python",
   "name": "python3"
  },
  "language_info": {
   "codemirror_mode": {
    "name": "ipython",
    "version": 3
   },
   "file_extension": ".py",
   "mimetype": "text/x-python",
   "name": "python",
   "nbconvert_exporter": "python",
   "pygments_lexer": "ipython3",
   "version": "3.5.4"
  }
 },
 "nbformat": 4,
 "nbformat_minor": 2
}
