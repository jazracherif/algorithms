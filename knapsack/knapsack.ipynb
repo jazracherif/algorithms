{
 "cells": [
  {
   "cell_type": "markdown",
   "metadata": {},
   "source": [
    "# Knapsack\n",
    "\n",
    "In this programming problem and the next you'll code up the knapsack algorithm from lecture.\n",
    "\n",
    "Let's start with a warm-up using file knapsack1.txt\n",
    "\n",
    "This file describes a knapsack instance, and it has the following format:\n",
    "\n",
    "[knapsack_size][number_of_items]\n",
    "\n",
    "[value_1] [weight_1]\n",
    "\n",
    "[value_2] [weight_2]\n",
    "\n",
    "...\n",
    "\n",
    "For example, the third line of the file is \"50074 659\", indicating that the second item has value 50074 and size 659, respectively.\n",
    "\n",
    "You can assume that all numbers are positive. You should assume that item weights and the knapsack capacity are integers.\n",
    "\n",
    "In the box below, type in the value of the optimal solution.\n",
    "\n",
    "ADVICE: If you're not getting the correct answer, try debugging your algorithm using some small test cases. And then post them to the discussion forum!\n"
   ]
  },
  {
   "cell_type": "code",
   "execution_count": 14,
   "metadata": {},
   "outputs": [],
   "source": [
    "import numpy as np\n",
    "\n",
    "file = \"knapsack1.txt\"\n",
    "\n",
    "fp = open(file, 'r+')\n",
    "\n",
    "data = fp.readlines()\n",
    "W, n = data[0].split(\" \")\n",
    "W, n = int(W), int(n)\n",
    "\n",
    "v = []\n",
    "w = []\n",
    "\n",
    "for r in data[1:]:\n",
    "    v_i, w_i = r.split(\" \")\n",
    "    v.append(int(v_i))\n",
    "    w.append(int(w_i))\n"
   ]
  },
  {
   "cell_type": "code",
   "execution_count": 15,
   "metadata": {},
   "outputs": [
    {
     "name": "stdout",
     "output_type": "stream",
     "text": [
      "[[       0.        0.        0. ...,    16808.    16808.    16808.]\n",
      " [       0.        0.        0. ...,    66882.    66882.    66882.]\n",
      " [       0.        0.        0. ...,    75813.    75813.    75813.]\n",
      " ..., \n",
      " [       0.        0.        0. ...,  2414601.  2414601.  2414601.]\n",
      " [       0.        0.        0. ...,  2456923.  2456923.  2460644.]\n",
      " [       0.        0.        0. ...,  2493893.  2493893.  2493893.]]\n"
     ]
    }
   ],
   "source": [
    "\n",
    "A = np.zeros([n, W+1])\n",
    "\n",
    "for i in range(n):\n",
    "    for x in range(W+1):\n",
    "        if x >= w[i]:\n",
    "            A[i,x]= max(A[i-1,x], A[i-1,x-w[i]]+v[i])\n",
    "        else:\n",
    "            A[i,x]= A[i-1,x]\n",
    "\n",
    "print (A)\n",
    "        "
   ]
  },
  {
   "cell_type": "markdown",
   "metadata": {},
   "source": [
    "# Problem 2\n",
    "\n",
    "This problem also asks you to solve a knapsack instance, but a much bigger one.\n",
    "\n",
    "Use the text file below knapsack_big.txt\n",
    "\n",
    "This file describes a knapsack instance, and it has the following format:\n",
    "\n",
    "[knapsack_size][number_of_items]\n",
    "\n",
    "[value_1] [weight_1]\n",
    "\n",
    "[value_2] [weight_2]\n",
    "\n",
    "...\n",
    "\n",
    "For example, the third line of the file is \"50074 834558\", indicating that the second item has value 50074 and size 834558, respectively. As before, you should assume that item weights and the knapsack capacity are integers.\n",
    "\n",
    "This instance is so big that the straightforward iterative implemetation uses an infeasible amount of time and space. So you will have to be creative to compute an optimal solution. One idea is to go back to a recursive implementation, solving subproblems --- and, of course, caching the results to avoid redundant work --- only on an \"as needed\" basis. Also, be sure to think about appropriate data structures for storing and looking up solutions to subproblems.\n",
    "\n",
    "In the box below, type in the value of the optimal solution.\n",
    "\n",
    "ADVICE: If you're not getting the correct answer, try debugging your algorithm using some small test cases. And then post them to the discussion forum!"
   ]
  },
  {
   "cell_type": "code",
   "execution_count": 9,
   "metadata": {
    "collapsed": true
   },
   "outputs": [],
   "source": [
    "file = \"knapsack_big.txt\"\n",
    "\n",
    "fp = open(file, 'r+')\n",
    "\n",
    "data = fp.readlines()\n",
    "W, n = data[0].split(\" \")\n",
    "W, n = int(W), int(n)\n",
    "\n",
    "v = []\n",
    "w = []\n",
    "\n",
    "for r in data[1:]:\n",
    "    v_i, w_i = r.split(\" \")\n",
    "    v.append(int(v_i))\n",
    "    w.append(int(w_i))\n",
    "\n"
   ]
  },
  {
   "cell_type": "markdown",
   "metadata": {},
   "source": [
    "A recursive Implementation of the knapsack algorithm with caching"
   ]
  },
  {
   "cell_type": "code",
   "execution_count": null,
   "metadata": {
    "scrolled": true
   },
   "outputs": [],
   "source": [
    "\n",
    "import sys\n",
    "sys.setrecursionlimit(2500)\n",
    "\n",
    "cache = dict()\n",
    "def knap(i, _w):\n",
    "#     print (i, _w)\n",
    "    key = str(i)+\"-\"+str(_w)\n",
    "\n",
    "    if i == 0:\n",
    "        cache[key] = 0\n",
    "        return 0\n",
    "    \n",
    "    if _w > w[i]:\n",
    "        key1 = str(i-1)+\"-\"+str(_w - w[i])\n",
    "        key2 = str(i-1)+\"-\"+str(_w)\n",
    "        \n",
    "        if key1 in cache and key2 in cache:\n",
    "            a1 = cache[key1]\n",
    "            a2 = cache[key2]\n",
    "            cache[key] = max(v[i]+a1, a2)\n",
    "        elif key1 in cache:\n",
    "            a1 = cache[key1]\n",
    "            cache[key] = max(v[i]+a1, knap(i-1, _w))\n",
    "        elif key2 in cache:\n",
    "            a2 = cache[key2]\n",
    "            cache[key] = max(v[i]+knap(i-1,_w-w[i]), a2)\n",
    "        else:\n",
    "            cache[key] = max(v[i]+knap(i-1,_w-w[i]), knap(i-1, _w))\n",
    "    else:\n",
    "        key2 = str(i-1)+\"-\"+str(_w)\n",
    "        if key2 in cache:\n",
    "            cache[key] = cache[key2]\n",
    "        else:\n",
    "            cache[key] = knap(i-1,_w)\n",
    "            \n",
    "    return cache[key]\n",
    "\n",
    "\n",
    "\n",
    "knap(n-1,W)\n"
   ]
  },
  {
   "cell_type": "code",
   "execution_count": 11,
   "metadata": {},
   "outputs": [
    {
     "name": "stdout",
     "output_type": "stream",
     "text": [
      "4243395\n"
     ]
    }
   ],
   "source": [
    "print (cache[str(n-1)+\"-\"+str(W)])"
   ]
  }
 ],
 "metadata": {
  "kernelspec": {
   "display_name": "Python 3",
   "language": "python",
   "name": "python3"
  },
  "language_info": {
   "codemirror_mode": {
    "name": "ipython",
    "version": 3
   },
   "file_extension": ".py",
   "mimetype": "text/x-python",
   "name": "python",
   "nbconvert_exporter": "python",
   "pygments_lexer": "ipython3",
   "version": "3.5.4"
  }
 },
 "nbformat": 4,
 "nbformat_minor": 2
}
