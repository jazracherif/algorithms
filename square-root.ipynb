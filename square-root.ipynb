{
 "cells": [
  {
   "cell_type": "markdown",
   "metadata": {},
   "source": [
    "# Square Root Function\n",
    "\n",
    "Implement an integer and a float square root function"
   ]
  },
  {
   "cell_type": "markdown",
   "metadata": {},
   "source": [
    "## Integer Square Root Function"
   ]
  },
  {
   "cell_type": "code",
   "execution_count": 39,
   "metadata": {
    "scrolled": false
   },
   "outputs": [],
   "source": [
    "import math\n",
    "\n",
    "def squareRoot_n(n, s, e):\n",
    "    #print (n, s, e)\n",
    "    if s == e:\n",
    "        if s*s <= n:\n",
    "            return s\n",
    "        else:\n",
    "            return s-1\n",
    "    elif s > e:\n",
    "        return e\n",
    "    \n",
    "    mid = int(s + (e-s) / 2)    \n",
    "    sq = mid*mid\n",
    "    \n",
    "    if  sq == n:\n",
    "        return mid\n",
    "    elif sq > n:\n",
    "        return squareRoot_n(n, s, mid-1)\n",
    "    else:\n",
    "        return squareRoot_n(n, mid+1, e) \n",
    "\n",
    "\n",
    "def squareRoot(n):\n",
    "    return squareRoot_n(n, 0, n)       \n"
   ]
  },
  {
   "cell_type": "code",
   "execution_count": null,
   "metadata": {
    "collapsed": true
   },
   "outputs": [],
   "source": [
    "for i in range(1000):  \n",
    "    sq = squareRoot(i)\n",
    "    expected = int(math.sqrt(i))\n",
    "    assert sq == expected, \"fail {} / true:{}\".format(sq,expected)\n",
    "print (\"All tests PASS\")"
   ]
  },
  {
   "cell_type": "markdown",
   "metadata": {},
   "source": [
    "## Float Square Root"
   ]
  },
  {
   "cell_type": "code",
   "execution_count": null,
   "metadata": {},
   "outputs": [],
   "source": []
  }
 ],
 "metadata": {
  "kernelspec": {
   "display_name": "Python 3",
   "language": "python",
   "name": "python3"
  },
  "language_info": {
   "codemirror_mode": {
    "name": "ipython",
    "version": 3
   },
   "file_extension": ".py",
   "mimetype": "text/x-python",
   "name": "python",
   "nbconvert_exporter": "python",
   "pygments_lexer": "ipython3",
   "version": "3.5.4"
  }
 },
 "nbformat": 4,
 "nbformat_minor": 2
}
