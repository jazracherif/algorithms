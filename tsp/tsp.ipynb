{
 "cells": [
  {
   "cell_type": "markdown",
   "metadata": {},
   "source": [
    "# Traveling Salesman Problem\n",
    "\n",
    "In this assignment you will implement one or more algorithms for the traveling salesman problem, such as the dynamic programming algorithm covered in the video lectures. \n",
    "\n",
    "The file tsp.txt describes a TSP instance. The first line indicates the number of cities. Each city is a point in the plane, and each subsequent line indicates the x- and y-coordinates of a single city.\n",
    "\n",
    "The distance between two cities is defined as the Euclidean distance --- that is, two cities at locations (x,y) and (z,w) have distance √((x−z)^2+(y−w)^2 between them.\n",
    "\n",
    "In the box below, type in the minimum cost of a traveling salesman tour for this instance, rounded down to the nearest integer.\n",
    "\n",
    "OPTIONAL: If you want bigger data sets to play with, check out the TSP instances from around the world https://www.tsp.gatech.edu/world/countries.html. The smallest data set (Western Sahara) has 29 cities, and most of the data sets are much bigger than that. What's the largest of these data sets that you're able to solve --- using dynamic programming or, if you like, a completely different method?\n",
    "\n",
    "HINT: You might experiment with ways to reduce the data set size. For example, trying plotting the points. Can you infer any structure of the optimal solution? Can you use that structure to speed up your algorithm?\n"
   ]
  },
  {
   "cell_type": "code",
   "execution_count": 2,
   "metadata": {},
   "outputs": [
    {
     "name": "stdout",
     "output_type": "stream",
     "text": [
      "{0: (20833.3333, 17100.0), 1: (20900.0, 17066.6667), 2: (21300.0, 13016.6667), 3: (21600.0, 14150.0), 4: (21600.0, 14966.6667), 5: (21600.0, 16500.0), 6: (22183.3333, 13133.3333), 7: (22583.3333, 14300.0), 8: (22683.3333, 12716.6667), 9: (23616.6667, 15866.6667), 10: (23700.0, 15933.3333), 11: (23883.3333, 14533.3333), 12: (24166.6667, 13250.0), 13: (25149.1667, 12365.8333), 14: (26133.3333, 14500.0), 15: (26150.0, 10550.0), 16: (26283.3333, 12766.6667), 17: (26433.3333, 13433.3333), 18: (26550.0, 13850.0), 19: (26733.3333, 11683.3333), 20: (27026.1111, 13051.9444), 21: (27096.1111, 13415.8333), 22: (27153.6111, 13203.3333), 23: (27166.6667, 9833.3333), 24: (27233.3333, 10450.0)}\n"
     ]
    }
   ],
   "source": [
    "import numpy as np\n",
    "\n",
    "file = \"tsp.txt\"\n",
    "# file = \"test2.txt\"\n",
    "\n",
    "\n",
    "data = open(file, 'r').readlines()\n",
    "\n",
    "n = int(data[0])\n",
    "\n",
    "graph = {}\n",
    "for i,v in enumerate(data[1:]):\n",
    "    graph[i] = tuple(map(float, v.strip().split(\" \")))\n",
    "    \n",
    "dist_val = np.zeros([n,n])\n",
    "for i in range(n):\n",
    "    for k in range(n):\n",
    "        dist_val[i,k] = dist_val[k,i] = np.sqrt((graph[k][0]-graph[i][0])**2 + (graph[k][1]-graph[i][1])**2)\n",
    "\n",
    "print (graph)"
   ]
  },
  {
   "cell_type": "markdown",
   "metadata": {},
   "source": [
    "## Draw points"
   ]
  },
  {
   "cell_type": "code",
   "execution_count": 3,
   "metadata": {},
   "outputs": [
    {
     "data": {
      "image/png": "[encoded data removed]",
      "text/plain": [
       "<matplotlib.figure.Figure at 0x11464fcc0>"
      ]
     },
     "metadata": {},
     "output_type": "display_data"
    }
   ],
   "source": [
    "%matplotlib inline\n",
    "import matplotlib.pyplot as plt\n",
    "\n",
    "values = list(graph.values())\n",
    "y = [values[i][0] for i in range(len(values))]\n",
    "x = [values[i][1] for i in range(len(values))]\n",
    "\n",
    "plt.scatter(y,x)\n",
    "plt.show()"
   ]
  },
  {
   "cell_type": "code",
   "execution_count": 4,
   "metadata": {
    "collapsed": true
   },
   "outputs": [],
   "source": [
    "import collections\n",
    "\n",
    "    \n",
    "def to_key(a):\n",
    "    \n",
    "    my_str = \"\"\n",
    "    \n",
    "    for i in a:\n",
    "        my_str += str(int(i))\n",
    "    return my_str\n",
    "                      \n",
    "def to_subset(v, n):\n",
    "    a = np.zeros(n)\n",
    "    a[v] = 1\n",
    "    \n",
    "    return a\n",
    "\n",
    "def create_all_subset(n):\n",
    "    A = collections.defaultdict(dict)\n",
    "    \n",
    "    for m in range(1,n):\n",
    "        for a in (itertools.combinations(range(n), m)):\n",
    "            key = a + tuple([0 for i in range(n-m)])\n",
    "            print (a, tuple([0 for i in range(n-m)]), key, m, n)\n",
    "            for j in range(n):\n",
    "                A[to_key(key)][j] = np.inf\n",
    "        \n",
    "    A[to_key(to_subset(0,n))][0] = 0\n",
    "      \n",
    "    return A\n",
    "# res= to_subset([2,3],5)\n",
    "# print (res)\n",
    "\n",
    "# print (to_key(res))\n",
    "# A = create_all_subset(3)\n",
    "# print (A)\n",
    "# print (index_to_set(10,'25'))\n",
    "# print(set_to_index([1,3]))"
   ]
  },
  {
   "cell_type": "code",
   "execution_count": 5,
   "metadata": {},
   "outputs": [
    {
     "name": "stdout",
     "output_type": "stream",
     "text": [
      "~~ Test\n",
      "~~ Original set: (0,)\n",
      "index: 1\n",
      "00001\n",
      "recovered set: [0]\n",
      "~~ Original set: (1,)\n",
      "index: 2\n",
      "00010\n",
      "recovered set: [1]\n",
      "~~ Original set: (2,)\n",
      "index: 4\n",
      "00100\n",
      "recovered set: [2]\n",
      "~~ Original set: (3,)\n",
      "index: 8\n",
      "01000\n",
      "recovered set: [3]\n",
      "~~ Original set: (4,)\n",
      "index: 16\n",
      "10000\n",
      "recovered set: [4]\n",
      "~~ Original set: (0, 1)\n",
      "index: 3\n",
      "00011\n",
      "recovered set: [0, 1]\n",
      "~~ Original set: (0, 2)\n",
      "index: 5\n",
      "00101\n",
      "recovered set: [0, 2]\n",
      "~~ Original set: (0, 3)\n",
      "index: 9\n",
      "01001\n",
      "recovered set: [0, 3]\n",
      "~~ Original set: (0, 4)\n",
      "index: 17\n",
      "10001\n",
      "recovered set: [0, 4]\n",
      "~~ Original set: (1, 2)\n",
      "index: 6\n",
      "00110\n",
      "recovered set: [1, 2]\n",
      "~~ Original set: (1, 3)\n",
      "index: 10\n",
      "01010\n",
      "recovered set: [1, 3]\n",
      "~~ Original set: (1, 4)\n",
      "index: 18\n",
      "10010\n",
      "recovered set: [1, 4]\n",
      "~~ Original set: (2, 3)\n",
      "index: 12\n",
      "01100\n",
      "recovered set: [2, 3]\n",
      "~~ Original set: (2, 4)\n",
      "index: 20\n",
      "10100\n",
      "recovered set: [2, 4]\n",
      "~~ Original set: (3, 4)\n",
      "index: 24\n",
      "11000\n",
      "recovered set: [3, 4]\n",
      "~~ Original set: (0, 1, 2)\n",
      "index: 7\n",
      "00111\n",
      "recovered set: [0, 1, 2]\n",
      "~~ Original set: (0, 1, 3)\n",
      "index: 11\n",
      "01011\n",
      "recovered set: [0, 1, 3]\n",
      "~~ Original set: (0, 1, 4)\n",
      "index: 19\n",
      "10011\n",
      "recovered set: [0, 1, 4]\n",
      "~~ Original set: (0, 2, 3)\n",
      "index: 13\n",
      "01101\n",
      "recovered set: [0, 2, 3]\n",
      "~~ Original set: (0, 2, 4)\n",
      "index: 21\n",
      "10101\n",
      "recovered set: [0, 2, 4]\n",
      "~~ Original set: (0, 3, 4)\n",
      "index: 25\n",
      "11001\n",
      "recovered set: [0, 3, 4]\n",
      "~~ Original set: (1, 2, 3)\n",
      "index: 14\n",
      "01110\n",
      "recovered set: [1, 2, 3]\n",
      "~~ Original set: (1, 2, 4)\n",
      "index: 22\n",
      "10110\n",
      "recovered set: [1, 2, 4]\n",
      "~~ Original set: (1, 3, 4)\n",
      "index: 26\n",
      "11010\n",
      "recovered set: [1, 3, 4]\n",
      "~~ Original set: (2, 3, 4)\n",
      "index: 28\n",
      "11100\n",
      "recovered set: [2, 3, 4]\n",
      "~~ Original set: (0, 1, 2, 3)\n",
      "index: 15\n",
      "01111\n",
      "recovered set: [0, 1, 2, 3]\n",
      "~~ Original set: (0, 1, 2, 4)\n",
      "index: 23\n",
      "10111\n",
      "recovered set: [0, 1, 2, 4]\n",
      "~~ Original set: (0, 1, 3, 4)\n",
      "index: 27\n",
      "11011\n",
      "recovered set: [0, 1, 3, 4]\n",
      "~~ Original set: (0, 2, 3, 4)\n",
      "index: 29\n",
      "11101\n",
      "recovered set: [0, 2, 3, 4]\n",
      "~~ Original set: (1, 2, 3, 4)\n",
      "index: 30\n",
      "11110\n",
      "recovered set: [1, 2, 3, 4]\n",
      "~~ Original set: (0, 1, 2, 3, 4)\n",
      "index: 31\n",
      "11111\n",
      "recovered set: [0, 1, 2, 3, 4]\n"
     ]
    }
   ],
   "source": [
    "import itertools\n",
    "\n",
    "def powerset(iterable):\n",
    "    \"powerset([1,2,3]) --> () (1,) (2,) (3,) (1,2) (1,3) (2,3) (1,2,3)\"\n",
    "    s = list(iterable)\n",
    "    return itertools.chain.from_iterable(itertools.combinations(s, r) for r in range(1,len(s)+1))\n",
    "\n",
    "def index_to_set(index, n='8'):\n",
    "    \n",
    "    fmt = '{0:0'+n+'b}'\n",
    "    res = fmt.format(index)\n",
    "    \n",
    "    mylist = list(res)    \n",
    "    mylist.reverse()\n",
    "    \n",
    "    print (res)\n",
    "    \n",
    "    mylist = np.asarray(mylist, dtype=int)\n",
    "    \n",
    "    ret = np.where(mylist==1)\n",
    "    \n",
    "#     ret = []\n",
    "#     for i, j in enumerate(mylist):\n",
    "#         if j==\"1\":\n",
    "#             ret.append(i)\n",
    "            \n",
    "    return list(ret[0])\n",
    "    \n",
    "def set_to_index(my_set):\n",
    "    # i = [1, 5, 7]\n",
    "    \n",
    "    ret = 0\n",
    "    for i in my_set:\n",
    "        ret += 2**i\n",
    "        \n",
    "    return ret\n",
    "\n",
    "print (\"~~ Test\")\n",
    "# print (set_to_index([1]))\n",
    "# print (index_to_set(set_to_index([1])))\n",
    "\n",
    "ex_all_sets = powerset(range(5))\n",
    "for s in ex_all_sets:\n",
    "    print (\"~~ Original set:\", s)\n",
    "    print (\"index:\", set_to_index(s))\n",
    "    print (\"recovered set:\", index_to_set(set_to_index(s),'5'))\n",
    "\n",
    "\n",
    "\n"
   ]
  },
  {
   "cell_type": "markdown",
   "metadata": {},
   "source": [
    "## Initialize the 2-D Array"
   ]
  },
  {
   "cell_type": "code",
   "execution_count": 6,
   "metadata": {},
   "outputs": [
    {
     "name": "stdout",
     "output_type": "stream",
     "text": [
      "1 0.0\n",
      "2 74.5356141571\n",
      "4 4109.91345989\n",
      "8 3047.99570684\n",
      "16 2266.91173136\n",
      "32 973.538817351\n",
      "64 4190.10079937\n",
      "128 3301.89339622\n",
      "256 4757.74219761\n",
      "512 3044.34818055\n",
      "1024 3094.97805449\n",
      "2048 3986.26114911\n",
      "4096 5092.5054301\n",
      "8192 6406.1495674\n",
      "16384 5903.38885726\n",
      "32768 8436.19848029\n",
      "65536 6962.77800083\n",
      "131072 6693.61223025\n",
      "262144 6575.92412965\n",
      "524288 8009.38687659\n",
      "1048576 7398.46274714\n",
      "2097152 7266.04913592\n",
      "4194304 7424.95271635\n",
      "8388608 9639.27159512\n",
      "16777216 9229.43660252\n"
     ]
    }
   ],
   "source": [
    "A = np.full([2**n, n], np.inf)\n",
    "A[set_to_index([0]),0]=0\n",
    "for i in range(0, n):\n",
    "    A[set_to_index([i]),i] = dist_val[i,0]\n",
    "    print (set_to_index([i]), dist_val[i,0])"
   ]
  },
  {
   "cell_type": "markdown",
   "metadata": {},
   "source": [
    "## Run the Dynamic Programming algorithm"
   ]
  },
  {
   "cell_type": "code",
   "execution_count": 7,
   "metadata": {
    "scrolled": true
   },
   "outputs": [
    {
     "name": "stdout",
     "output_type": "stream",
     "text": [
      "Subset Size: 1\n",
      "Subset Size: 2\n",
      "Subset Size: 3\n",
      "Subset Size: 4\n",
      "Subset Size: 5\n",
      "Subset Size: 6\n",
      "Subset Size: 7\n",
      "Subset Size: 8\n",
      "Subset Size: 9\n",
      "Subset Size: 10\n",
      "Subset Size: 11\n",
      "Subset Size: 12\n",
      "Subset Size: 13\n",
      "Subset Size: 14\n",
      "Subset Size: 15\n",
      "Subset Size: 16\n",
      "Subset Size: 17\n",
      "Subset Size: 18\n",
      "Subset Size: 19\n",
      "Subset Size: 20\n",
      "Subset Size: 21\n",
      "Subset Size: 22\n",
      "Subset Size: 23\n",
      "Subset Size: 24\n"
     ]
    }
   ],
   "source": [
    "from tqdm import tqdm\n",
    "\n",
    "def _dist(k, j):\n",
    "    return np.sqrt((graph[k][0]-graph[j][0])**2 + (graph[k][1]-graph[j][1])**2)\n",
    "    \n",
    "FULL = range(n)\n",
    "\n",
    "for m in range(1,n):\n",
    "#     all_sets = powerset(range(1,m))\n",
    "    all_sets = itertools.combinations(FULL, m+1)\n",
    "\n",
    "    print (\"Subset Size:\",m)\n",
    "\n",
    "    for _set in all_sets:\n",
    "        \n",
    "        if not _set:\n",
    "            continue\n",
    "            \n",
    "        _set = list(_set)\n",
    "#         print (\"Len Set\", len(_set))\n",
    "        set2_idx = set_to_index(_set)\n",
    "        \n",
    "        for j in _set:\n",
    "            _set2 = _set.copy()            \n",
    "            _set2.remove(j)\n",
    "            \n",
    "            if j==0 or not _set2:\n",
    "                continue            \n",
    "#             print (\"_set2\", _set2)\n",
    "            _set2_idx = set_to_index(_set2)\n",
    "    \n",
    "#             print (\"handle Set\", _set2, \"idx\",_set2_idx, \"j:\", j)\n",
    "            minval = np.inf         \n",
    "            for k in _set2:\n",
    "#                 print (\"idxSet:\", _set2_idx, \"k:\", k, \"dist\", A[_set2_idx,k])\n",
    "                val = A[_set2_idx,k] + dist_val[k,j]\n",
    "                if val < minval:\n",
    "                    minval = val\n",
    "#             print (\"minval\",minval)\n",
    "            A[set2_idx,j] = minval\n",
    "\n",
    "# print (A)"
   ]
  },
  {
   "cell_type": "code",
   "execution_count": 8,
   "metadata": {},
   "outputs": [
    {
     "name": "stdout",
     "output_type": "stream",
     "text": [
      "Full Set [0, 1, 2, 3, 4, 5, 6, 7, 8, 9, 10, 11, 12, 13, 14, 15, 16, 17, 18, 19, 20, 21, 22, 23, 24] 33554431\n",
      "minval 26442.730309\n"
     ]
    }
   ],
   "source": [
    "my_set = [i for i in range(n)]\n",
    "\n",
    "print (\"Full Set\", my_set, set_to_index(my_set))\n",
    "\n",
    "minval = np.inf \n",
    "for j in range(1,n):\n",
    "    val = A[set_to_index(my_set),j] + dist_val[j,0]\n",
    "    if val < minval:\n",
    "        minval = val\n",
    "        \n",
    "print (\"minval\", minval)\n",
    "       \n",
    "# print (A[set_to_index(my_set),:])"
   ]
  },
  {
   "cell_type": "code",
   "execution_count": null,
   "metadata": {
    "collapsed": true
   },
   "outputs": [],
   "source": []
  },
  {
   "cell_type": "code",
   "execution_count": null,
   "metadata": {
    "collapsed": true
   },
   "outputs": [],
   "source": []
  },
  {
   "cell_type": "code",
   "execution_count": null,
   "metadata": {
    "collapsed": true
   },
   "outputs": [],
   "source": []
  }
 ],
 "metadata": {
  "kernelspec": {
   "display_name": "Python 3",
   "language": "python",
   "name": "python3"
  },
  "language_info": {
   "codemirror_mode": {
    "name": "ipython",
    "version": 3
   },
   "file_extension": ".py",
   "mimetype": "text/x-python",
   "name": "python",
   "nbconvert_exporter": "python",
   "pygments_lexer": "ipython3",
   "version": "3.5.4"
  }
 },
 "nbformat": 4,
 "nbformat_minor": 2
}
