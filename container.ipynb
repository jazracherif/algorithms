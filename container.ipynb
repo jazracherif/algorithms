{
 "cells": [
  {
   "cell_type": "markdown",
   "metadata": {},
   "source": [
    "## Container With Most Water\n",
    "\n",
    "Given n non-negative integers a1, a2, ..., an, where each represents a point at coordinate (i, ai). n vertical lines are drawn such that the two endpoints of line i is at (i, ai) and (i, 0). Find two lines, which together with x-axis forms a container, such that the container contains the most water.\n",
    "\n",
    "Note: You may not slant the container and n is at least 2.\n",
    "    \n",
    "[leetcode link](https://leetcode.com/problems/container-with-most-water/description/)\n",
    " "
   ]
  },
  {
   "cell_type": "code",
   "execution_count": null,
   "metadata": {
    "collapsed": true
   },
   "outputs": [],
   "source": [
    "def maxArea(self, height):\n",
    "\n",
    "    j = len(height)-1\n",
    "    i = 0\n",
    "    mx = 0\n",
    "\n",
    "    while (i<j):\n",
    "        mx = max(mx, (j-i) * min(height[i], height[j]))\n",
    "        if height[i] < height[j]:\n",
    "            i += 1               \n",
    "        else:\n",
    "            j -= 1\n",
    "\n",
    "    return mx"
   ]
  }
 ],
 "metadata": {
  "kernelspec": {
   "display_name": "Python 3",
   "language": "python",
   "name": "python3"
  },
  "language_info": {
   "codemirror_mode": {
    "name": "ipython",
    "version": 3
   },
   "file_extension": ".py",
   "mimetype": "text/x-python",
   "name": "python",
   "nbconvert_exporter": "python",
   "pygments_lexer": "ipython3",
   "version": "3.5.4"
  }
 },
 "nbformat": 4,
 "nbformat_minor": 2
}
