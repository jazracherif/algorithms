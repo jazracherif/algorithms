{
 "cells": [
  {
   "cell_type": "code",
   "execution_count": 49,
   "metadata": {},
   "outputs": [
    {
     "name": "stdout",
     "output_type": "stream",
     "text": [
      "x = 0x5\n",
      "x = b'101'\n",
      "y = b'10000'\n",
      "z = x | y = b'10101'\n",
      "z ^ y = b'101'\n",
      "2*5 = 10\n"
     ]
    }
   ],
   "source": [
    "x = 0x05  #00000111\n",
    "\n",
    "# Print in Hex and Binary\n",
    "print (\"x = 0x{0:x}\".format(x))\n",
    "print (\"x = b\\'{0:b}'\".format(x))\n",
    "\n",
    "# Create bitmask with bit 4 enabled\n",
    "y = 1 << 4\n",
    "print (\"y = b\\'{0:b}'\".format(y))\n",
    "\n",
    "# Turn on bit 4 of x\n",
    "z = x | y\n",
    "print (\"z = x | y = b\\'{0:b}'\".format(z))\n",
    "\n",
    "# Turn off z bit 4\n",
    "w = z ^ y\n",
    "print (\"z ^ y = b\\'{0:b}'\".format(w))\n",
    "\n",
    "# Multiply x by 2\n",
    "print (\"2*{} = {}\".format(x, x << 1))\n"
   ]
  },
  {
   "cell_type": "code",
   "execution_count": null,
   "metadata": {
    "collapsed": true
   },
   "outputs": [],
   "source": []
  }
 ],
 "metadata": {
  "kernelspec": {
   "display_name": "Python 3",
   "language": "python",
   "name": "python3"
  },
  "language_info": {
   "codemirror_mode": {
    "name": "ipython",
    "version": 3
   },
   "file_extension": ".py",
   "mimetype": "text/x-python",
   "name": "python",
   "nbconvert_exporter": "python",
   "pygments_lexer": "ipython3",
   "version": "3.5.4"
  }
 },
 "nbformat": 4,
 "nbformat_minor": 2
}
