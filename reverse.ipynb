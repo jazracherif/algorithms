{
 "cells": [
  {
   "cell_type": "markdown",
   "metadata": {},
   "source": [
    "## Reverse digits of an integer.\n",
    "\n",
    "Example1: x = 123, return 321\n",
    "Example2: x = -123, return -321\n",
    "\n",
    "click to show spoilers.\n",
    "\n",
    "Note:\n",
    "The input is assumed to be a 32-bit signed integer. Your function should return 0 when the reversed integer **overflows**.\n",
    "\n"
   ]
  },
  {
   "cell_type": "code",
   "execution_count": 5,
   "metadata": {},
   "outputs": [
    {
     "name": "stdout",
     "output_type": "stream",
     "text": [
      "-3001\n"
     ]
    }
   ],
   "source": [
    "class Solution(object):\n",
    "    def reverse(self, t):\n",
    "        \"\"\"\n",
    "        :type x: int\n",
    "        :rtype: int\n",
    "        \"\"\"\n",
    "        ret = \"\"\n",
    "        is_neg = False\n",
    "        \n",
    "        if (-t) > 0:\n",
    "            is_neg = True\n",
    "            t = -t\n",
    "\n",
    "        # 2. Extract each trailing digit and remove it\n",
    "        while t > 1:        \n",
    "            r = (t % 10)                 \n",
    "            t = t  / 10\n",
    "            \n",
    "            if ret == 0:\n",
    "                continue \n",
    "            ret = ret + chr(48+int(r))\n",
    "\n",
    "        if int(ret) > 2**31:\n",
    "            return 0\n",
    "\n",
    "        # 3. If needed, add the negative sign\n",
    "        if is_neg:\n",
    "            ret = chr(45) + ret\n",
    "\n",
    "        return int(ret)\n",
    "        \n",
    "print (Solution().reverse(-1003))"
   ]
  },
  {
   "cell_type": "code",
   "execution_count": null,
   "metadata": {
    "collapsed": true
   },
   "outputs": [],
   "source": []
  }
 ],
 "metadata": {
  "kernelspec": {
   "display_name": "Python 3",
   "language": "python",
   "name": "python3"
  },
  "language_info": {
   "codemirror_mode": {
    "name": "ipython",
    "version": 3
   },
   "file_extension": ".py",
   "mimetype": "text/x-python",
   "name": "python",
   "nbconvert_exporter": "python",
   "pygments_lexer": "ipython3",
   "version": "3.5.4"
  }
 },
 "nbformat": 4,
 "nbformat_minor": 2
}
