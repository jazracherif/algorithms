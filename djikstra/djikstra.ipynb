{
 "cells": [
  {
   "cell_type": "markdown",
   "metadata": {},
   "source": [
    "# Djikstra Shortest Path Algorithm\n",
    "\n",
    "The file djikstraData.txt contains an adjacency list representation of an undirected weighted graph with 200 vertices labeled 1 to 200. Each row consists of the node tuples that are adjacent to that particular vertex along with the length of that edge. For example, the 6th row has 6 as the first entry indicating that this row corresponds to the vertex labeled 6. The next entry of this row \"141,8200\" indicates that there is an edge between vertex 6 and vertex 141 that has length 8200. The rest of the pairs of this row indicate the other vertices adjacent to vertex 6 and the lengths of the corresponding edges.\n",
    "\n",
    "Your task is to run Dijkstra's shortest-path algorithm on this graph, using 1 (the first vertex) as the source vertex, and to compute the shortest-path distances between 1 and every other vertex of the graph. If there is no path between a vertex v and vertex 1, we'll define the shortest-path distance between 1 and v to be 1000000.\n",
    "\n",
    "You should report the shortest-path distances to the following ten vertices, in order: 7,37,59,82,99,115,133,165,188,197. You should encode the distances as a comma-separated string of integers. So if you find that all ten of these vertices except 115 are at distance 1000 away from vertex 1 and 115 is 2000 distance away, then your answer should be 1000,1000,1000,1000,1000,2000,1000,1000,1000,1000. Remember the order of reporting DOES MATTER, and the string should be in the same order in which the above ten vertices are given. The string should not contain any spaces. Please type your answer in the space provided.\n",
    "\n",
    "IMPLEMENTATION NOTES: This graph is small enough that the straightforward O(mn) time implementation of Dijkstra's algorithm should work fine. OPTIONAL: For those of you seeking an additional challenge, try implementing the heap-based version. Note this requires a heap that supports deletions, and you'll probably need to maintain some kind of mapping between vertices and their positions in the heap."
   ]
  },
  {
   "cell_type": "markdown",
   "metadata": {},
   "source": [
    "## O(mn) algorithm, No Heap"
   ]
  },
  {
   "cell_type": "code",
   "execution_count": 122,
   "metadata": {},
   "outputs": [],
   "source": [
    "class djikstra(object):\n",
    "    MAX_WEIGHT = 1000000\n",
    "    \n",
    "    def __init__(self, graph, vertices, edges):\n",
    "        self.graph = graph\n",
    "        self.vertices = vertices\n",
    "        self.edges = edges \n",
    "        \n",
    "        self.X = [] # Vertices processed so far\n",
    "        self.unprocessed_vertices = vertices.copy() # V-X\n",
    "\n",
    "        self.A = {}  # computed shortest path from source s to key\n",
    "        self.valid_edges = []\n",
    "\n",
    "\n",
    "    def compute_next_min_edge(self):\n",
    "        minD = djikstra.MAX_WEIGHT\n",
    "        minE = \"\"\n",
    "        minS = \"\"\n",
    "        #print (\"X\", self.X, \"V-X\", self.unprocessed_vertices )\n",
    "        \n",
    "        for edge in self.edges:\n",
    "            src = edge[0]\n",
    "            dst = edge[1]\n",
    "            weight = edge[2]\n",
    "\n",
    "\n",
    "            if src in self.X and dst in self.unprocessed_vertices:\n",
    "\n",
    "                d = self.A[src] + weight\n",
    "                #print (\"Consider edge\", src, dst, d)\n",
    "\n",
    "                if d < minD:\n",
    "                    #print (\"add Edge\", src, dst, weight)\n",
    "                    minD = d                    \n",
    "                    minE = dst\n",
    "                    minS = src\n",
    "        \n",
    "        #print (\"final choice\", minS, minE, self.A[minS], minD)\n",
    "        if minE:\n",
    "            self.A[minE] = minD           \n",
    "            return minE\n",
    "        else:\n",
    "            return None\n",
    "        \n",
    "    \n",
    "    def reinit(self, s):\n",
    "        self.X = [s]        \n",
    "        self.unprocessed_vertices = vertices.copy()\n",
    "        self.unprocessed_vertices.remove(s)\n",
    "        self.A[s] = 0\n",
    "\n",
    "\n",
    "    def run(self, s, d):\n",
    "        self.reinit(s)\n",
    "        \n",
    "        n = len(self.vertices)\n",
    "        v = s\n",
    "        \n",
    "        while (n > 0):\n",
    "            \n",
    "            w = self.compute_next_min_edge()\n",
    "            \n",
    "            if w is None:\n",
    "                # No more edges between X and V-X to process. Set all other edges to MAX\n",
    "                #print (\"unprocessed\", self.unprocessed_vertices)\n",
    "                for i in self.unprocessed_vertices:\n",
    "                    self.A[i] = djikstra.MAX_WEIGHT\n",
    "                break\n",
    "                \n",
    "            #print (\"pick\", w)\n",
    "            #print (\"processed\", self.X, self.A)\n",
    "\n",
    "            self.unprocessed_vertices.remove(w)\n",
    "            self.X.append(w)\n",
    "            n -= 1\n",
    "            \n",
    "#             if w == d:\n",
    "#                 break\n",
    "    \n",
    "        return self.A    "
   ]
  },
  {
   "cell_type": "code",
   "execution_count": 117,
   "metadata": {},
   "outputs": [
    {
     "name": "stdout",
     "output_type": "stream",
     "text": [
      "X ['1'] V-X ['3', '2', '4']\n",
      "Consider edge 1 2 1\n",
      "add Edge 1 2 1\n",
      "Consider edge 1 3 4\n",
      "final choice 1 2 0 1\n",
      "pick 2\n",
      "processed ['1', '2'] {'2': 1, '1': 0}\n",
      "X ['1', '2'] V-X ['3', '4']\n",
      "Consider edge 2 3 3\n",
      "add Edge 2 3 2\n",
      "Consider edge 2 4 7\n",
      "Consider edge 1 3 4\n",
      "final choice 2 3 1 3\n",
      "pick 3\n",
      "processed ['1', '2', '3'] {'2': 1, '1': 0, '3': 3}\n",
      "X ['1', '2', '3'] V-X ['4']\n",
      "Consider edge 2 4 7\n",
      "add Edge 2 4 6\n",
      "Consider edge 3 4 6\n",
      "add Edge 3 4 3\n",
      "final choice 3 4 3 6\n",
      "pick 4\n",
      "processed ['1', '2', '3', '4'] {'4': 6, '2': 1, '1': 0, '3': 3}\n",
      "{'4': 6, '2': 1, '1': 0, '3': 3}\n"
     ]
    }
   ],
   "source": [
    "#Example\n",
    "def get_edges(graph):\n",
    "    edges = []\n",
    "    for s, adj in graph.items():\n",
    "        for v in adj:\n",
    "            edges.append([s, v[0], v[1]])\n",
    "    return edges\n",
    "        \n",
    "graph ={\n",
    "    \"1\": [[\"2\",1], [\"3\", 4]],\n",
    "    \"2\": [[\"3\", 2], [\"4\",6]],\n",
    "    \"3\": [[\"4\",3]],\n",
    "    \"4\": []\n",
    "}\n",
    "\n",
    "vertices = [\"1\", \"3\", \"2\", \"4\"]\n",
    "edges = get_edges(graph)\n",
    "\n",
    "d = djisktra(graph, vertices, edges)\n",
    "\n",
    "print(d.run(\"1\", \"4\"))"
   ]
  },
  {
   "cell_type": "code",
   "execution_count": 135,
   "metadata": {},
   "outputs": [
    {
     "name": "stdout",
     "output_type": "stream",
     "text": [
      "Vertex 1 adj: [['80', 982], ['163', 8164], ['170', 2620], ['145', 648], ['200', 8021], ['173', 2069], ['92', 647], ['26', 4122], ['140', 546], ['11', 1913], ['160', 6461], ['27', 7905], ['40', 9047], ['150', 2183], ['61', 9146], ['159', 7420], ['198', 1724], ['114', 508], ['104', 6647], ['30', 4612], ['99', 2367], ['138', 7896], ['169', 8700], ['49', 2437], ['125', 2909], ['117', 2597], ['55', 6399]]\n",
      "First 5 Edges: [['1', '80', 982], ['1', '163', 8164], ['1', '170', 2620], ['1', '145', 648], ['1', '200', 8021]]\n"
     ]
    }
   ],
   "source": [
    "FILE = \"dijkstraData.txt\"\n",
    "\n",
    "fp = open(FILE, 'r')\n",
    "\n",
    "graph = {}\n",
    "vertices = set()\n",
    "edges = []\n",
    "\n",
    "for line in fp.readlines():\n",
    "    v = line.strip().split(\"\\t\")\n",
    "    \n",
    "    vertices.add(v[0])\n",
    "    graph.setdefault(v[0], [])\n",
    "    \n",
    "    for u in v[1:]:\n",
    "        t = u.split(\",\")\n",
    "        \n",
    "        graph[v[0]].append([t[0], int(t[1])])\n",
    "        edges.append([v[0], t[0], int(t[1])])\n",
    "    \n",
    "print (\"Vertex 1 adj:\", graph[\"1\"])\n",
    "print (\"First 5 Edges:\", edges[:5])\n"
   ]
  },
  {
   "cell_type": "code",
   "execution_count": 137,
   "metadata": {
    "scrolled": false
   },
   "outputs": [
    {
     "name": "stdout",
     "output_type": "stream",
     "text": [
      "2599\n",
      "2599,2610,2947,2052,2367,2399,2029,2442,2505,3068\n"
     ]
    }
   ],
   "source": [
    "d = djikstra(graph, vertices, edges)\n",
    "\n",
    "d.run(\"1\", \"7\")\n",
    "print (d.A[\"7\"])\n",
    "\n",
    "res = []\n",
    "for k in [\"7\",\"37\",\"59\",\"82\",\"99\",\"115\",\"133\",\"165\",\"188\",\"197\"]:\n",
    "#     print (d.A[k])\n",
    "    res.append(str(d.A[k]))\n",
    "\n",
    "print (\",\".join(res))"
   ]
  },
  {
   "cell_type": "code",
   "execution_count": null,
   "metadata": {
    "collapsed": true
   },
   "outputs": [],
   "source": []
  }
 ],
 "metadata": {
  "kernelspec": {
   "display_name": "Python 3",
   "language": "python",
   "name": "python3"
  },
  "language_info": {
   "codemirror_mode": {
    "name": "ipython",
    "version": 3
   },
   "file_extension": ".py",
   "mimetype": "text/x-python",
   "name": "python",
   "nbconvert_exporter": "python",
   "pygments_lexer": "ipython3",
   "version": "3.5.4"
  }
 },
 "nbformat": 4,
 "nbformat_minor": 2
}
