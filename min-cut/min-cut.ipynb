{
 "cells": [
  {
   "cell_type": "markdown",
   "metadata": {},
   "source": [
    "## Min Cut Algorithm\n",
    "\n",
    "The file kargerMinCut.txt contains the adjacency list representation of a simple undirected graph. There are 200 vertices labeled 1 to 200. The first column in the file represents the vertex label, and the particular row (other entries except the first column) tells all the vertices that the vertex is adjacent to. So for example, the 6th row looks like : \"6\t155\t56\t52\t120\t......\". This just means that the vertex with label 6 is adjacent to (i.e., shares an edge with) the vertices with labels 155,56,52,120,......,etc\n",
    "\n",
    "Your task is to code up and run the randomized contraction algorithm for the min cut problem and use it on the above graph to compute the min cut. (HINT: Note that you'll have to figure out an implementation of edge contractions. Initially, you might want to do this naively, creating a new graph from the old every time there's an edge contraction. But you should also think about more efficient implementations.) (WARNING: As per the video lectures, please make sure to run the algorithm many times with different random seeds, and remember the smallest cut that you ever find.) Write your numeric answer in the space provided. So e.g., if your answer is 5, just type 5 in the space provided.\n"
   ]
  },
  {
   "cell_type": "code",
   "execution_count": 177,
   "metadata": {},
   "outputs": [
    {
     "name": "stdout",
     "output_type": "stream",
     "text": [
      "2517\n"
     ]
    }
   ],
   "source": [
    "import numpy as np\n",
    "import copy\n",
    "import tqdm\n",
    "\n",
    "\n",
    "FILE = \"kargerMinCut.txt\"\n",
    "SEP = \"\\t\"\n",
    "\n",
    "# FILE = \"input_random_14_50.txt\"\n",
    "# SEP = \" \"\n",
    "\n",
    "def get_edge_id(l,m):\n",
    "    l = int(l)\n",
    "    m = int(m)\n",
    "    a,b = (l,m) if l<m else (m,l)\n",
    "\n",
    "    return str(a)+\"-\"+str(b)\n",
    "\n",
    "def get_edge_id_create_if_absent(edge_index, l,m):\n",
    "    edge_id = get_edge_id(l,m)\n",
    "    \n",
    "    if edge_index not in index:\n",
    "        l = len(index)\n",
    "        index[edge_index] = l\n",
    "        ret = l\n",
    "    else:\n",
    "        ret = index[edge_index]\n",
    "        \n",
    "    return ret\n",
    "\n",
    "fp = open(FILE, \"r+\")\n",
    "\n",
    "\n",
    "# Data Structures\n",
    "min_cut_data = dict()  # Adjacancy List as a dictionary\n",
    "min_cut_edges = []   # List of Edges\n",
    "min_cut_edges_to_idx = {}  # Edge Id to List index\n",
    "min_cut_idx_to_edge = {}  # Edge Id to List index\n",
    "\n",
    "for line in (fp.readlines()):\n",
    "    row = line.strip().split(SEP)\n",
    "    min_cut_data[row[0]] = row[1:]\n",
    "\n",
    "N = len(min_cut_data) # Number of Vertices\n",
    "\n",
    "# Create edge list\n",
    "\n",
    "for key, dt in min_cut_data.items():\n",
    "    all_keys = min_cut_edges_to_idx.keys()\n",
    "    for d in dt:\n",
    "        edge_id = get_edge_id(key,d)\n",
    "        if edge_id not in min_cut_edges_to_idx:\n",
    "            l = len(min_cut_edges_to_idx)\n",
    "            min_cut_edges_to_idx[edge_id] = l\n",
    "            min_cut_edges.append(1)\n",
    "            min_cut_idx_to_edge[l] = edge_id\n",
    "\n",
    "\n",
    "print (np.sum(min_cut_edges))\n",
    "\n",
    " "
   ]
  },
  {
   "cell_type": "code",
   "execution_count": 176,
   "metadata": {
    "scrolled": false
   },
   "outputs": [
    {
     "name": "stdout",
     "output_type": "stream",
     "text": [
      "Number of edges: 2517\n"
     ]
    }
   ],
   "source": [
    "# Test\n",
    "\n",
    "print (\"Number of edges:\", len(min_cut_edges))\n",
    "\n",
    "# print (min_cut_idx_to_edge)\n",
    "# print (min_cut_edges_to_idx)"
   ]
  },
  {
   "cell_type": "code",
   "execution_count": 130,
   "metadata": {},
   "outputs": [],
   "source": [
    "def get_num_vertices(graph):\n",
    "    return len(graph.items())\n",
    "\n",
    "def remove_edge(graph, edges, edge):\n",
    "    \"\"\"\n",
    "        let (u,v) = edge\n",
    "        \n",
    "        1) remove (\"u-v\") from the edge list\n",
    "        2) copy all edges from v to u, except dups\n",
    "        4) remove vertex v from graph\n",
    "    \"\"\"\n",
    "    \n",
    "    u,v = edge.split(\"-\")\n",
    "    #print (\"u={},v={}\".format(u, v))\n",
    "    \n",
    "    #1. Remove all edges v-u\n",
    "    edges[get_edge_id(u,v)] = 0\n",
    "\n",
    "    #2. Update adjacency lists of each k and v\n",
    "    #print (\"Remove\", v, graph[v])\n",
    "    for k in graph[v]:      \n",
    "        \n",
    "        if k == u:\n",
    "            continue \n",
    "            \n",
    "        #print ((\"neighbor {} of {}\").format(k, v))\n",
    "        \n",
    "        # UPDATE GRAPH Structure: Remove v from the adj list of all its neighbours\n",
    "        #print (\"graph\", k, graph[k])\n",
    "        graph[k].remove(v)\n",
    "        \n",
    "        if u not in graph[k]:\n",
    "            graph[k].append(u)\n",
    "        # add the neighbor in the vertice of u\n",
    "        if k not in graph[u]: \n",
    "            graph[u].append(k)\n",
    "\n",
    "        # UPDATE EDGE STRUCTURE remove all edges from edge list\n",
    "        edges.setdefault(get_edge_id(k,u), 0)\n",
    "        edges[get_edge_id(k,u)] += edges[get_edge_id(v,k)]\n",
    "        \n",
    "        edges[get_edge_id(v,k)] = 0\n",
    "        \n",
    "           \n",
    "    #3. Remove vertex v\n",
    "    graph[u].remove(v)\n",
    "    graph.pop(v)\n",
    "\n",
    "def get_random_edge(edges):\n",
    "        \n",
    "    r = np.random.randint(0, get_num_edges(edges))\n",
    "    \n",
    "    i = 0\n",
    "    for key, d in edges.items():\n",
    "        if d == 0:\n",
    "            continue\n",
    "            \n",
    "        if r - i <= d:\n",
    "            return key\n",
    "        \n",
    "        i += d\n",
    "        \n",
    "    return key \n",
    "\n",
    "def get_num_edges(edges):\n",
    "    N = 0\n",
    "    for key, d in edges.items():\n",
    "        N += d\n",
    "        \n",
    "    return N\n",
    "    \n",
    "def RandomContract(graph, edges):    \n",
    "    while get_num_vertices(graph) > 2:\n",
    "        edge = get_random_edge(edges)    \n",
    "        #print (\"Remove next edge\", edge, \"Num Vertices\", get_num_vertices(graph))\n",
    "        remove_edge(graph, edges, edge)\n",
    "\n",
    "\n",
    "    return get_num_edges(edges)\n",
    "    "
   ]
  },
  {
   "cell_type": "code",
   "execution_count": 129,
   "metadata": {},
   "outputs": [
    {
     "name": "stdout",
     "output_type": "stream",
     "text": [
      "REMOVE edge 3-1\n",
      "before {'2': ['1', '3', '4'], '4': ['2', '3'], '3': ['1', '2', '4'], '1': ['2', '3']}\n",
      "new graph: {'2': ['3', '4'], '4': ['2', '3'], '3': ['2', '4']}\n",
      "edges: {'2-3': 2, '1-2': 0, '1-3': 0, '3-4': 1, '2-4': 1}\n",
      "num_edges 4\n",
      "num_vertices 3\n",
      "REMOVE edge 2-3\n",
      "new graph: {'2': ['4'], '4': ['2']}\n",
      "edges: {'2-3': 0, '1-2': 0, '1-3': 0, '3-4': 0, '2-4': 2}\n",
      "num_edges 2\n",
      "num_vertices 2\n"
     ]
    }
   ],
   "source": [
    "# Example graph\n",
    "\n",
    "\"\"\"\n",
    "1   2\n",
    "*---*\n",
    "| / |\n",
    "|/  |\n",
    "*---*\n",
    "3   4\n",
    "\"\"\"\n",
    "graph = {\n",
    "    \"1\":[\"2\", \"3\"],\n",
    "    \"2\":[\"1\", \"3\", \"4\"],\n",
    "    \"3\":[\"1\",\"2\", \"4\"],\n",
    "    \"4\":[\"2\", \"3\"]\n",
    "}\n",
    "myedges = {\n",
    "    \"1-2\":1,\n",
    "    \"1-3\":1,\n",
    "    \"2-3\":1,\n",
    "    \"3-4\":1,\n",
    "    \"2-4\":1\n",
    "}\n",
    "# edge =(get_random_edge(myedges))\n",
    "\n",
    "edge = \"3-1\"\n",
    "print (\"REMOVE edge\", edge)\n",
    "\n",
    "print (\"before\",graph)\n",
    "remove_edge(graph, myedges, edge )\n",
    "print (\"new graph:\",graph)\n",
    "print (\"edges:\",myedges)\n",
    "print (\"num_edges\",get_num_edges(myedges))\n",
    "print (\"num_vertices\",get_num_vertices(graph))\n",
    "\n",
    "    \n",
    "edge = \"2-3\"\n",
    "print (\"REMOVE edge\", edge)\n",
    "\n",
    "remove_edge(graph, myedges, edge )\n",
    "print (\"new graph:\",graph)\n",
    "print (\"edges:\",myedges)\n",
    "print (\"num_edges\",get_num_edges(myedges))\n",
    "print (\"num_vertices\",get_num_vertices(graph))\n",
    "\n"
   ]
  },
  {
   "cell_type": "code",
   "execution_count": 132,
   "metadata": {},
   "outputs": [
    {
     "name": "stdout",
     "output_type": "stream",
     "text": [
      "2\n",
      "new graph: {'2': ['1'], '1': ['2']}\n",
      "edges: {'2-3': 0, '1-2': 2, '1-3': 0, '3-4': 0, '2-4': 0}\n",
      "num_edges 2\n",
      "num_vertices 2\n"
     ]
    }
   ],
   "source": [
    "# Example graph\n",
    "np.random.seed(2)\n",
    "\"\"\"\n",
    "1   2\n",
    "*---*\n",
    "| / |\n",
    "|/  |\n",
    "*---*\n",
    "3   4\n",
    "\"\"\"\n",
    "graph = {\n",
    "    \"1\":[\"2\", \"3\"],\n",
    "    \"2\":[\"1\", \"3\", \"4\"],\n",
    "    \"3\":[\"1\",\"2\", \"4\"],\n",
    "    \"4\":[\"2\", \"3\"]\n",
    "}\n",
    "myedges = {\n",
    "    \"1-2\":1,\n",
    "    \"1-3\":1,\n",
    "    \"2-3\":1,\n",
    "    \"3-4\":1,\n",
    "    \"2-4\":1\n",
    "}\n",
    "# edge =(get_random_edge(myedges))\n",
    "\n",
    "print (RandomContract(graph, myedges))\n",
    "print (\"new graph:\",graph)\n",
    "print (\"edges:\",myedges)\n",
    "print (\"num_edges\",get_num_edges(myedges))\n",
    "print (\"num_vertices\",get_num_vertices(graph))\n",
    "\n",
    "\n",
    "\n"
   ]
  },
  {
   "cell_type": "code",
   "execution_count": 94,
   "metadata": {
    "scrolled": false
   },
   "outputs": [
    {
     "name": "stdout",
     "output_type": "stream",
     "text": [
      "Mincut 34\n"
     ]
    }
   ],
   "source": [
    "np.random.seed(9)\n",
    "\n",
    "graph = dict()\n",
    "myedges = dict()\n",
    "\n",
    "graph = copy.deepcopy(min_cut_data)\n",
    "myedges = copy.deepcopy(min_cut_edges)\n",
    "\n",
    "mincut = RandomContract(graph, myedges)\n",
    "print (\"Mincut\", mincut)"
   ]
  },
  {
   "cell_type": "code",
   "execution_count": 149,
   "metadata": {
    "scrolled": false
   },
   "outputs": [
    {
     "name": "stderr",
     "output_type": "stream",
     "text": [
      "\n",
      "  0%|          | 0/211932 [00:00<?, ?it/s]\u001b[A\n",
      "  0%|          | 1/211932 [00:00<8:44:39,  6.73it/s]"
     ]
    },
    {
     "name": "stdout",
     "output_type": "stream",
     "text": [
      "TOTAL 211932\n",
      "new min 20\n"
     ]
    },
    {
     "name": "stderr",
     "output_type": "stream",
     "text": [
      "\u001b[A\n",
      "  0%|          | 2/211932 [00:00<8:52:21,  6.64it/s]\u001b[A\n",
      "  0%|          | 3/211932 [00:00<8:40:11,  6.79it/s]\u001b[A\n",
      "  0%|          | 4/211932 [00:00<8:38:59,  6.81it/s]\u001b[A\n",
      "  0%|          | 5/211932 [00:00<8:29:04,  6.94it/s]\u001b[A\n",
      "  0%|          | 7/211932 [00:01<8:29:47,  6.93it/s]\u001b[A\n",
      "  0%|          | 12/211932 [00:01<10:13:22,  5.76it/s]"
     ]
    },
    {
     "name": "stdout",
     "output_type": "stream",
     "text": [
      "new min 17\n"
     ]
    },
    {
     "name": "stderr",
     "output_type": "stream",
     "text": [
      "  0%|          | 619/211932 [01:39<8:56:16,  6.57it/s] "
     ]
    },
    {
     "ename": "KeyboardInterrupt",
     "evalue": "",
     "output_type": "error",
     "traceback": [
      "\u001b[0;31m---------------------------------------------------------------------------\u001b[0m",
      "\u001b[0;31mKeyboardInterrupt\u001b[0m                         Traceback (most recent call last)",
      "\u001b[0;32m<ipython-input-149-6c3e2d0b826b>\u001b[0m in \u001b[0;36m<module>\u001b[0;34m()\u001b[0m\n\u001b[1;32m     19\u001b[0m     \u001b[0mmyedges\u001b[0m \u001b[0;34m=\u001b[0m \u001b[0mcopy\u001b[0m\u001b[0;34m.\u001b[0m\u001b[0mdeepcopy\u001b[0m\u001b[0;34m(\u001b[0m\u001b[0mmin_cut_edges\u001b[0m\u001b[0;34m)\u001b[0m\u001b[0;34m\u001b[0m\u001b[0m\n\u001b[1;32m     20\u001b[0m \u001b[0;34m\u001b[0m\u001b[0m\n\u001b[0;32m---> 21\u001b[0;31m     \u001b[0mmincut\u001b[0m \u001b[0;34m=\u001b[0m \u001b[0mRandomContract\u001b[0m\u001b[0;34m(\u001b[0m\u001b[0mgraph\u001b[0m\u001b[0;34m,\u001b[0m \u001b[0mmyedges\u001b[0m\u001b[0;34m)\u001b[0m\u001b[0;34m\u001b[0m\u001b[0m\n\u001b[0m\u001b[1;32m     22\u001b[0m     \u001b[0;31m#print (\"Mincut\", mincut, \"seed\", i)\u001b[0m\u001b[0;34m\u001b[0m\u001b[0;34m\u001b[0m\u001b[0m\n\u001b[1;32m     23\u001b[0m \u001b[0;34m\u001b[0m\u001b[0m\n",
      "\u001b[0;32m<ipython-input-130-461cc04d609f>\u001b[0m in \u001b[0;36mRandomContract\u001b[0;34m(graph, edges)\u001b[0m\n\u001b[1;32m     74\u001b[0m         \u001b[0medge\u001b[0m \u001b[0;34m=\u001b[0m \u001b[0mget_random_edge\u001b[0m\u001b[0;34m(\u001b[0m\u001b[0medges\u001b[0m\u001b[0;34m)\u001b[0m\u001b[0;34m\u001b[0m\u001b[0m\n\u001b[1;32m     75\u001b[0m         \u001b[0;31m#print (\"Remove next edge\", edge, \"Num Vertices\", get_num_vertices(graph))\u001b[0m\u001b[0;34m\u001b[0m\u001b[0;34m\u001b[0m\u001b[0m\n\u001b[0;32m---> 76\u001b[0;31m         \u001b[0mremove_edge\u001b[0m\u001b[0;34m(\u001b[0m\u001b[0mgraph\u001b[0m\u001b[0;34m,\u001b[0m \u001b[0medges\u001b[0m\u001b[0;34m,\u001b[0m \u001b[0medge\u001b[0m\u001b[0;34m)\u001b[0m\u001b[0;34m\u001b[0m\u001b[0m\n\u001b[0m\u001b[1;32m     77\u001b[0m \u001b[0;34m\u001b[0m\u001b[0m\n\u001b[1;32m     78\u001b[0m \u001b[0;34m\u001b[0m\u001b[0m\n",
      "\u001b[0;32m<ipython-input-130-461cc04d609f>\u001b[0m in \u001b[0;36mremove_edge\u001b[0;34m(graph, edges, edge)\u001b[0m\n\u001b[1;32m     15\u001b[0m \u001b[0;34m\u001b[0m\u001b[0m\n\u001b[1;32m     16\u001b[0m     \u001b[0;31m#1. Remove all edges v-u\u001b[0m\u001b[0;34m\u001b[0m\u001b[0;34m\u001b[0m\u001b[0m\n\u001b[0;32m---> 17\u001b[0;31m     \u001b[0medges\u001b[0m\u001b[0;34m[\u001b[0m\u001b[0mget_edge_id\u001b[0m\u001b[0;34m(\u001b[0m\u001b[0mu\u001b[0m\u001b[0;34m,\u001b[0m\u001b[0mv\u001b[0m\u001b[0;34m)\u001b[0m\u001b[0;34m]\u001b[0m \u001b[0;34m=\u001b[0m \u001b[0;36m0\u001b[0m\u001b[0;34m\u001b[0m\u001b[0m\n\u001b[0m\u001b[1;32m     18\u001b[0m \u001b[0;34m\u001b[0m\u001b[0m\n\u001b[1;32m     19\u001b[0m     \u001b[0;31m#2. Update adjacency lists of each k and v\u001b[0m\u001b[0;34m\u001b[0m\u001b[0;34m\u001b[0m\u001b[0m\n",
      "\u001b[0;32m<ipython-input-148-96e2261d620b>\u001b[0m in \u001b[0;36mget_edge_id\u001b[0;34m(l, m)\u001b[0m\n\u001b[1;32m     15\u001b[0m     \u001b[0ma\u001b[0m\u001b[0;34m,\u001b[0m\u001b[0mb\u001b[0m \u001b[0;34m=\u001b[0m \u001b[0;34m(\u001b[0m\u001b[0ml\u001b[0m\u001b[0;34m,\u001b[0m\u001b[0mm\u001b[0m\u001b[0;34m)\u001b[0m \u001b[0;32mif\u001b[0m \u001b[0ml\u001b[0m\u001b[0;34m<\u001b[0m\u001b[0mm\u001b[0m \u001b[0;32melse\u001b[0m \u001b[0;34m(\u001b[0m\u001b[0mm\u001b[0m\u001b[0;34m,\u001b[0m\u001b[0ml\u001b[0m\u001b[0;34m)\u001b[0m\u001b[0;34m\u001b[0m\u001b[0m\n\u001b[1;32m     16\u001b[0m \u001b[0;34m\u001b[0m\u001b[0m\n\u001b[0;32m---> 17\u001b[0;31m     \u001b[0;32mreturn\u001b[0m \u001b[0mstr\u001b[0m\u001b[0;34m(\u001b[0m\u001b[0ma\u001b[0m\u001b[0;34m)\u001b[0m\u001b[0;34m+\u001b[0m\u001b[0;34m\"-\"\u001b[0m\u001b[0;34m+\u001b[0m\u001b[0mstr\u001b[0m\u001b[0;34m(\u001b[0m\u001b[0mb\u001b[0m\u001b[0;34m)\u001b[0m\u001b[0;34m\u001b[0m\u001b[0m\n\u001b[0m\u001b[1;32m     18\u001b[0m \u001b[0;34m\u001b[0m\u001b[0m\n\u001b[1;32m     19\u001b[0m \u001b[0;34m\u001b[0m\u001b[0m\n",
      "\u001b[0;31mKeyboardInterrupt\u001b[0m: "
     ]
    }
   ],
   "source": [
    "#print (list(edges.keys()))\n",
    "#np.random.seed(1)\n",
    "\n",
    "N = get_num_vertices(min_cut_data)\n",
    "TOTAL = int(N**2  * np.log(N))\n",
    "print (\"TOTAL\", TOTAL)\n",
    "\n",
    "mincuts = []\n",
    "new_min = 2*N\n",
    "\n",
    "for i in tqdm.tqdm(range(TOTAL)):\n",
    "    #np.random.seed(i)\n",
    "\n",
    "\n",
    "    graph = {}\n",
    "#     myedges = {}\n",
    "\n",
    "    graph = copy.deepcopy(min_cut_data)\n",
    "    myedges = copy.deepcopy(min_cut_edges)\n",
    "\n",
    "    mincut = RandomContract(graph, myedges)\n",
    "    #print (\"Mincut\", mincut, \"seed\", i)\n",
    "    \n",
    "    if mincut < new_min:\n",
    "        print (\"new min\", mincut)\n",
    "        new_min = mincut\n",
    "        \n",
    "    mincuts.append(mincut)\n",
    "    \n",
    "print (min(mincuts))"
   ]
  },
  {
   "cell_type": "code",
   "execution_count": 98,
   "metadata": {},
   "outputs": [
    {
     "name": "stdout",
     "output_type": "stream",
     "text": [
      "5949\n"
     ]
    }
   ],
   "source": [
    "print (i)"
   ]
  },
  {
   "cell_type": "code",
   "execution_count": null,
   "metadata": {
    "scrolled": false
   },
   "outputs": [],
   "source": []
  },
  {
   "cell_type": "code",
   "execution_count": null,
   "metadata": {
    "collapsed": true
   },
   "outputs": [],
   "source": []
  }
 ],
 "metadata": {
  "kernelspec": {
   "display_name": "Python 3",
   "language": "python",
   "name": "python3"
  },
  "language_info": {
   "codemirror_mode": {
    "name": "ipython",
    "version": 3
   },
   "file_extension": ".py",
   "mimetype": "text/x-python",
   "name": "python",
   "nbconvert_exporter": "python",
   "pygments_lexer": "ipython3",
   "version": "3.5.4"
  }
 },
 "nbformat": 4,
 "nbformat_minor": 2
}
