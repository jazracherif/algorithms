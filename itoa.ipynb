{
 "cells": [
  {
   "cell_type": "markdown",
   "metadata": {},
   "source": [
    "# Implement an Integer to String Subrouting"
   ]
  },
  {
   "cell_type": "markdown",
   "metadata": {},
   "source": [
    "The function should take an integer as input and should return the string without using any of the \"print\" functions"
   ]
  },
  {
   "cell_type": "code",
   "execution_count": 18,
   "metadata": {},
   "outputs": [
    {
     "name": "stdout",
     "output_type": "stream",
     "text": [
      "The number is 5745\n"
     ]
    }
   ],
   "source": [
    "def itoa_example(i):\n",
    "    return \"The number is %d\"%i\n",
    "\n",
    "print(itoa_example(5745))"
   ]
  },
  {
   "cell_type": "code",
   "execution_count": 44,
   "metadata": {},
   "outputs": [
    {
     "name": "stdout",
     "output_type": "stream",
     "text": [
      "the number is 1947\n",
      "the number is -1947\n"
     ]
    }
   ],
   "source": [
    "def itoa(t):\n",
    "    ret = head_neg = \"\"\n",
    "    \n",
    "    if (-t) > 0:\n",
    "        head_neg = \"-\"\n",
    "        t = -t\n",
    "    \n",
    "    while (t > 1):        \n",
    "        r = (t % 10)                 \n",
    "        t = t  / 10\n",
    "        ret = chr(48+int(r)) + ret\n",
    "      \n",
    "    return head_neg+ret\n",
    "    #print (n)\n",
    "\n",
    "    \n",
    "print (\"the number is %s\" % itoa(1947))\n",
    "print (\"the number is %s\" % itoa(-1947))\n"
   ]
  },
  {
   "cell_type": "markdown",
   "metadata": {
    "collapsed": true
   },
   "source": [
    "## atoi \n"
   ]
  },
  {
   "cell_type": "code",
   "execution_count": 85,
   "metadata": {},
   "outputs": [],
   "source": [
    "int_char = {\"0\", \"1\", \"2\", \"3\", \"4\", \"5\", \"6\", \"7\",\"8\",\"9\"}\n",
    "\n",
    "def myAtoi(s):\n",
    "    \"\"\"\n",
    "    :type str: str\n",
    "    :rtype: int\n",
    "    \"\"\"\n",
    "    if not s:\n",
    "        return 0\n",
    "\n",
    "    sign = 1\n",
    "    ret = 0\n",
    "\n",
    "    # Remove training 0, check for a + or - sign followed by an integer character\n",
    "    s = s.strip()\n",
    "    if s[0]==\"-\":\n",
    "        sign = -1\n",
    "        s = s[1:]\n",
    "\n",
    "    elif s[0]==\"+\":\n",
    "        sign = 1\n",
    "        s = s[1:]\n",
    "\n",
    "    if not s or s[0] not in int_char:\n",
    "        return 0\n",
    "\n",
    "    # Get all valid consecutive integers\n",
    "    out = []\n",
    "    for i, v in enumerate(s):\n",
    "        if v in int_char:\n",
    "            out.append(v)\n",
    "        else:\n",
    "            break\n",
    "\n",
    "    for i,v in enumerate(out[::-1]):\n",
    "        ret += int(v)* 10**i\n",
    "\n",
    "    if sign == 1 and ret > 2147483647:\n",
    "        ret = 2147483647\n",
    "    elif sign == -1 and ret > 2147483648:\n",
    "        ret = 2147483648\n",
    "\n",
    "    return sign * ret\n",
    "    "
   ]
  },
  {
   "cell_type": "code",
   "execution_count": 86,
   "metadata": {},
   "outputs": [
    {
     "name": "stdout",
     "output_type": "stream",
     "text": [
      "All test passed\n"
     ]
    }
   ],
   "source": [
    "val = myAtoi(\"  -123  \")\n",
    "assert val == -123, \"wrong value {} expected {}\".format(val, -123)\n",
    "\n",
    "val = myAtoi(\"-23ab3\")\n",
    "assert val == -23, \"wrong value {} expected {}\".format(val, -23)\n",
    "\n",
    "val = myAtoi(\"-00233\")\n",
    "assert val == -233, \"wrong value {} expected {}\".format(val, -233)\n",
    "\n",
    "val = myAtoi(\"  - 233\")\n",
    "assert val == 0, \"wrong value {} expected {}\".format(val, 0)\n",
    "\n",
    "val = myAtoi(\"  -2a33\")\n",
    "assert val == -2, \"wrong value {} expected {}\".format(val, -2)\n",
    "\n",
    "val = myAtoi(\"  -0012a42\")\n",
    "assert val == -12, \"wrong value {} expected {}\".format(val, 12)\n",
    "\n",
    "print (\"All test passed\")"
   ]
  },
  {
   "cell_type": "code",
   "execution_count": null,
   "metadata": {
    "collapsed": true
   },
   "outputs": [],
   "source": []
  }
 ],
 "metadata": {
  "kernelspec": {
   "display_name": "Python 3",
   "language": "python",
   "name": "python3"
  },
  "language_info": {
   "codemirror_mode": {
    "name": "ipython",
    "version": 3
   },
   "file_extension": ".py",
   "mimetype": "text/x-python",
   "name": "python",
   "nbconvert_exporter": "python",
   "pygments_lexer": "ipython3",
   "version": "3.5.4"
  }
 },
 "nbformat": 4,
 "nbformat_minor": 2
}
