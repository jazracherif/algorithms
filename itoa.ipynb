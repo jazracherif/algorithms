{
 "cells": [
  {
   "cell_type": "markdown",
   "metadata": {},
   "source": [
    "# Implement an Integer to String Subrouting"
   ]
  },
  {
   "cell_type": "markdown",
   "metadata": {},
   "source": [
    "The function should take an integer as input and should return the string without using any of the \"print\" functions"
   ]
  },
  {
   "cell_type": "code",
   "execution_count": 18,
   "metadata": {},
   "outputs": [
    {
     "name": "stdout",
     "output_type": "stream",
     "text": [
      "The number is 5745\n"
     ]
    }
   ],
   "source": [
    "def itoa_example(i):\n",
    "    return \"The number is %d\"%i\n",
    "\n",
    "print(itoa_example(5745))"
   ]
  },
  {
   "cell_type": "code",
   "execution_count": 34,
   "metadata": {},
   "outputs": [
    {
     "name": "stdout",
     "output_type": "stream",
     "text": [
      "the number is 1947\n",
      "the number is -1947\n"
     ]
    }
   ],
   "source": [
    "def itoa(i):\n",
    "    ret = \"\"\n",
    "    is_neg = False\n",
    "    \n",
    "    if (-i) > 0:\n",
    "        is_neg = True\n",
    "        i = -i \n",
    "    \n",
    "    # 1. Find the number of digits\n",
    "    n = 1     \n",
    "    _i = i\n",
    "    while (True):        \n",
    "        if (_i / (10)) < 1:\n",
    "            break\n",
    "        n +=1\n",
    "        _i /= 10\n",
    "    \n",
    "    # 2. Extract each trailing digit and remove it\n",
    "    t = i\n",
    "    for k in range(1, n+1):        \n",
    "        r = (t % 10)                 \n",
    "        t = t  / 10\n",
    "        ret = chr(48+int(r)) + ret\n",
    "    \n",
    "    # 3. If needed, add the negative sign\n",
    "    if is_neg:\n",
    "        ret = chr(45) + ret\n",
    "  \n",
    "    return ret\n",
    "    #print (n)\n",
    "\n",
    "    \n",
    "print (\"the number is %s\" % itoa(1947))\n",
    "print (\"the number is %s\" % itoa(-1947))\n"
   ]
  },
  {
   "cell_type": "code",
   "execution_count": null,
   "metadata": {
    "collapsed": true
   },
   "outputs": [],
   "source": []
  }
 ],
 "metadata": {
  "kernelspec": {
   "display_name": "Python 3",
   "language": "python",
   "name": "python3"
  },
  "language_info": {
   "codemirror_mode": {
    "name": "ipython",
    "version": 3
   },
   "file_extension": ".py",
   "mimetype": "text/x-python",
   "name": "python",
   "nbconvert_exporter": "python",
   "pygments_lexer": "ipython3",
   "version": "3.5.4"
  }
 },
 "nbformat": 4,
 "nbformat_minor": 2
}
